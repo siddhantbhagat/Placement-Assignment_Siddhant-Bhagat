{
 "cells": [
  {
   "cell_type": "markdown",
   "id": "52f7c08a",
   "metadata": {},
   "source": [
    "## python"
   ]
  },
  {
   "cell_type": "code",
   "execution_count": 23,
   "id": "938ac9c1",
   "metadata": {},
   "outputs": [
    {
     "name": "stdout",
     "output_type": "stream",
     "text": [
      "string- write write write all the number from from from 1 to 100 from\n",
      "from\n"
     ]
    }
   ],
   "source": [
    "# question 1\n",
    "s = input('string- ')\n",
    "dict={}\n",
    "words = set(s.split())\n",
    "for i in words:\n",
    "    dict[i]=s.count(i)\n",
    "vmax=max(dict.values())\n",
    "kmax=''\n",
    "for k,v in dict.items():\n",
    "    if dict[k]==vmax and len(k)>len(kmax):\n",
    "        kmax=k\n",
    "print(kmax)"
   ]
  },
  {
   "cell_type": "code",
   "execution_count": 28,
   "id": "d5a51ba9",
   "metadata": {},
   "outputs": [],
   "source": [
    "# que - 1 test case\n",
    "def test_wordcount():\n",
    "    s=' write write write all the number from from from 1 to 100 '\n",
    "    assert wordcount(s) == 5\n",
    "\n",
    "def test_wordcount1():\n",
    "    s=' write write write all the number from from from 1 to 100 from '\n",
    "    assert wordcount(s) == 4\n",
    "\n",
    "def test_wordcount2():\n",
    "    s=''\n",
    "    assert wordcount(s) == 0"
   ]
  },
  {
   "cell_type": "code",
   "execution_count": 46,
   "id": "402255e0",
   "metadata": {},
   "outputs": [
    {
     "name": "stdout",
     "output_type": "stream",
     "text": [
      "string- aabbccd\n",
      "Yes\n"
     ]
    }
   ],
   "source": [
    "# question 2\n",
    "s = input('string- ')\n",
    "dic={}\n",
    "def check_validity(s):\n",
    "    for i in s:\n",
    "        dic[i]=s.count(i)\n",
    "    if min(dic.values())==max(dic.values()):\n",
    "        return 'Yes'\n",
    "    elif dic[s[-1]]==1:\n",
    "        dic.popitem()\n",
    "        if min(dic.values())==max(dic.values()):\n",
    "            return 'Yes'\n",
    "        else:\n",
    "            return 'NO'\n",
    "    else:\n",
    "            return 'NO'\n",
    "print(check_validity(s))"
   ]
  },
  {
   "cell_type": "code",
   "execution_count": 47,
   "id": "3ccf826f",
   "metadata": {},
   "outputs": [
    {
     "data": {
      "text/plain": [
       "'Explanation - empty string could have caused problem'"
      ]
     },
     "execution_count": 47,
     "metadata": {},
     "output_type": "execute_result"
    }
   ],
   "source": [
    "#testcase for que 2\n",
    "def test_check_validity1():\n",
    "    s='abc'\n",
    "    assert check_validity(s) == 'Yes'\n",
    "\n",
    "'''Explanation - as all characters of the string appear the same number of times the string is valid'''\n",
    "\n",
    "def test_check_validity2():\n",
    "    s='abcc'\n",
    "    assert check_validity(s) == 'NO'\n",
    "\n",
    "'''Explanation - As all characters of the string does not appear the same number of times and removing the last character\n",
    "changes the values in the dictionary it is not valid'''\n",
    "\n",
    "\n",
    "def test_check_validity3():\n",
    "    s='aabbccd'\n",
    "    assert check_validity(s) == 'Yes'\n",
    "'''Explanation - as all characters of the string appear the same number of times after removing the last character \n",
    "this is valid string'''\n",
    "\n",
    "def test_check_validity4():\n",
    "    s=''\n",
    "    assert check_validity(s) == 'Please enter a valid string'\n",
    "'''Explanation - empty string could have caused problem'''"
   ]
  },
  {
   "cell_type": "code",
   "execution_count": null,
   "id": "57641b50",
   "metadata": {},
   "outputs": [],
   "source": []
  }
 ],
 "metadata": {
  "kernelspec": {
   "display_name": "Python 3 (ipykernel)",
   "language": "python",
   "name": "python3"
  },
  "language_info": {
   "codemirror_mode": {
    "name": "ipython",
    "version": 3
   },
   "file_extension": ".py",
   "mimetype": "text/x-python",
   "name": "python",
   "nbconvert_exporter": "python",
   "pygments_lexer": "ipython3",
   "version": "3.9.13"
  }
 },
 "nbformat": 4,
 "nbformat_minor": 5
}
