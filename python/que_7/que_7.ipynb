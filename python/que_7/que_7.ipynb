{
 "cells": [
  {
   "cell_type": "code",
   "execution_count": 48,
   "id": "11b60a10",
   "metadata": {},
   "outputs": [],
   "source": [
    "import pandas as pd\n",
    "import matplotlib.pyplot as plt\n",
    "import seaborn as sns\n",
    "from datetime import datetime"
   ]
  },
  {
   "cell_type": "code",
   "execution_count": 53,
   "id": "499b0ba4",
   "metadata": {},
   "outputs": [],
   "source": [
    "# date_parser=lambda s:datetime.strptime(s,'%Y-%m-%dT%H:%M:%S.%f')"
   ]
  },
  {
   "cell_type": "code",
   "execution_count": 55,
   "id": "e275e74e",
   "metadata": {},
   "outputs": [
    {
     "data": {
      "text/html": [
       "<div>\n",
       "<style scoped>\n",
       "    .dataframe tbody tr th:only-of-type {\n",
       "        vertical-align: middle;\n",
       "    }\n",
       "\n",
       "    .dataframe tbody tr th {\n",
       "        vertical-align: top;\n",
       "    }\n",
       "\n",
       "    .dataframe thead th {\n",
       "        text-align: right;\n",
       "    }\n",
       "</style>\n",
       "<table border=\"1\" class=\"dataframe\">\n",
       "  <thead>\n",
       "    <tr style=\"text-align: right;\">\n",
       "      <th></th>\n",
       "      <th>name</th>\n",
       "      <th>nametype</th>\n",
       "      <th>recclass</th>\n",
       "      <th>mass</th>\n",
       "      <th>fall</th>\n",
       "      <th>year</th>\n",
       "      <th>reclat</th>\n",
       "      <th>reclong</th>\n",
       "      <th>geolocation</th>\n",
       "      <th>:@computed_region_cbhk_fwbd</th>\n",
       "      <th>:@computed_region_nnqa_25f4</th>\n",
       "    </tr>\n",
       "    <tr>\n",
       "      <th>id</th>\n",
       "      <th></th>\n",
       "      <th></th>\n",
       "      <th></th>\n",
       "      <th></th>\n",
       "      <th></th>\n",
       "      <th></th>\n",
       "      <th></th>\n",
       "      <th></th>\n",
       "      <th></th>\n",
       "      <th></th>\n",
       "      <th></th>\n",
       "    </tr>\n",
       "  </thead>\n",
       "  <tbody>\n",
       "    <tr>\n",
       "      <th>1</th>\n",
       "      <td>Aachen</td>\n",
       "      <td>Valid</td>\n",
       "      <td>L5</td>\n",
       "      <td>21.0</td>\n",
       "      <td>Fell</td>\n",
       "      <td>1880-01-01T00:00:00.000</td>\n",
       "      <td>50.77500</td>\n",
       "      <td>6.08333</td>\n",
       "      <td>{'type': 'Point', 'coordinates': [6.08333, 50....</td>\n",
       "      <td>NaN</td>\n",
       "      <td>NaN</td>\n",
       "    </tr>\n",
       "    <tr>\n",
       "      <th>2</th>\n",
       "      <td>Aarhus</td>\n",
       "      <td>Valid</td>\n",
       "      <td>H6</td>\n",
       "      <td>720.0</td>\n",
       "      <td>Fell</td>\n",
       "      <td>1951-01-01T00:00:00.000</td>\n",
       "      <td>56.18333</td>\n",
       "      <td>10.23333</td>\n",
       "      <td>{'type': 'Point', 'coordinates': [10.23333, 56...</td>\n",
       "      <td>NaN</td>\n",
       "      <td>NaN</td>\n",
       "    </tr>\n",
       "    <tr>\n",
       "      <th>6</th>\n",
       "      <td>Abee</td>\n",
       "      <td>Valid</td>\n",
       "      <td>EH4</td>\n",
       "      <td>107000.0</td>\n",
       "      <td>Fell</td>\n",
       "      <td>1952-01-01T00:00:00.000</td>\n",
       "      <td>54.21667</td>\n",
       "      <td>-113.00000</td>\n",
       "      <td>{'type': 'Point', 'coordinates': [-113, 54.216...</td>\n",
       "      <td>NaN</td>\n",
       "      <td>NaN</td>\n",
       "    </tr>\n",
       "    <tr>\n",
       "      <th>10</th>\n",
       "      <td>Acapulco</td>\n",
       "      <td>Valid</td>\n",
       "      <td>Acapulcoite</td>\n",
       "      <td>1914.0</td>\n",
       "      <td>Fell</td>\n",
       "      <td>1976-01-01T00:00:00.000</td>\n",
       "      <td>16.88333</td>\n",
       "      <td>-99.90000</td>\n",
       "      <td>{'type': 'Point', 'coordinates': [-99.9, 16.88...</td>\n",
       "      <td>NaN</td>\n",
       "      <td>NaN</td>\n",
       "    </tr>\n",
       "    <tr>\n",
       "      <th>370</th>\n",
       "      <td>Achiras</td>\n",
       "      <td>Valid</td>\n",
       "      <td>L6</td>\n",
       "      <td>780.0</td>\n",
       "      <td>Fell</td>\n",
       "      <td>1902-01-01T00:00:00.000</td>\n",
       "      <td>-33.16667</td>\n",
       "      <td>-64.95000</td>\n",
       "      <td>{'type': 'Point', 'coordinates': [-64.95, -33....</td>\n",
       "      <td>NaN</td>\n",
       "      <td>NaN</td>\n",
       "    </tr>\n",
       "  </tbody>\n",
       "</table>\n",
       "</div>"
      ],
      "text/plain": [
       "         name nametype     recclass      mass  fall                     year  \\\n",
       "id                                                                             \n",
       "1      Aachen    Valid           L5      21.0  Fell  1880-01-01T00:00:00.000   \n",
       "2      Aarhus    Valid           H6     720.0  Fell  1951-01-01T00:00:00.000   \n",
       "6        Abee    Valid          EH4  107000.0  Fell  1952-01-01T00:00:00.000   \n",
       "10   Acapulco    Valid  Acapulcoite    1914.0  Fell  1976-01-01T00:00:00.000   \n",
       "370   Achiras    Valid           L6     780.0  Fell  1902-01-01T00:00:00.000   \n",
       "\n",
       "       reclat    reclong                                        geolocation  \\\n",
       "id                                                                            \n",
       "1    50.77500    6.08333  {'type': 'Point', 'coordinates': [6.08333, 50....   \n",
       "2    56.18333   10.23333  {'type': 'Point', 'coordinates': [10.23333, 56...   \n",
       "6    54.21667 -113.00000  {'type': 'Point', 'coordinates': [-113, 54.216...   \n",
       "10   16.88333  -99.90000  {'type': 'Point', 'coordinates': [-99.9, 16.88...   \n",
       "370 -33.16667  -64.95000  {'type': 'Point', 'coordinates': [-64.95, -33....   \n",
       "\n",
       "     :@computed_region_cbhk_fwbd  :@computed_region_nnqa_25f4  \n",
       "id                                                             \n",
       "1                            NaN                          NaN  \n",
       "2                            NaN                          NaN  \n",
       "6                            NaN                          NaN  \n",
       "10                           NaN                          NaN  \n",
       "370                          NaN                          NaN  "
      ]
     },
     "execution_count": 55,
     "metadata": {},
     "output_type": "execute_result"
    }
   ],
   "source": [
    "data= pd.read_excel('excel_data_nasa.xlsx',index_col='id',parse_dates=['year'])\n",
    "data.head(5)"
   ]
  },
  {
   "cell_type": "code",
   "execution_count": 118,
   "id": "9b72605a",
   "metadata": {},
   "outputs": [
    {
     "data": {
      "text/plain": [
       "array(['Valid'], dtype=object)"
      ]
     },
     "execution_count": 118,
     "metadata": {},
     "output_type": "execute_result"
    }
   ],
   "source": [
    "data.nametype.unique()"
   ]
  },
  {
   "cell_type": "markdown",
   "id": "1ce1e872",
   "metadata": {},
   "source": [
    "#### nametype column can be droped as there are no unique values"
   ]
  },
  {
   "cell_type": "code",
   "execution_count": 6,
   "id": "e22f6848",
   "metadata": {
    "scrolled": true
   },
   "outputs": [
    {
     "name": "stdout",
     "output_type": "stream",
     "text": [
      "<class 'pandas.core.frame.DataFrame'>\n",
      "Int64Index: 1000 entries, 1 to 24019\n",
      "Data columns (total 11 columns):\n",
      " #   Column                       Non-Null Count  Dtype  \n",
      "---  ------                       --------------  -----  \n",
      " 0   name                         1000 non-null   object \n",
      " 1   nametype                     1000 non-null   object \n",
      " 2   recclass                     1000 non-null   object \n",
      " 3   mass                         972 non-null    float64\n",
      " 4   fall                         1000 non-null   object \n",
      " 5   year                         999 non-null    object \n",
      " 6   reclat                       988 non-null    float64\n",
      " 7   reclong                      988 non-null    float64\n",
      " 8   geolocation                  988 non-null    object \n",
      " 9   :@computed_region_cbhk_fwbd  133 non-null    float64\n",
      " 10  :@computed_region_nnqa_25f4  134 non-null    float64\n",
      "dtypes: float64(5), object(6)\n",
      "memory usage: 93.8+ KB\n"
     ]
    }
   ],
   "source": [
    "data.info()"
   ]
  },
  {
   "cell_type": "code",
   "execution_count": 117,
   "id": "600883f6",
   "metadata": {},
   "outputs": [
    {
     "data": {
      "text/html": [
       "<div>\n",
       "<style scoped>\n",
       "    .dataframe tbody tr th:only-of-type {\n",
       "        vertical-align: middle;\n",
       "    }\n",
       "\n",
       "    .dataframe tbody tr th {\n",
       "        vertical-align: top;\n",
       "    }\n",
       "\n",
       "    .dataframe thead th {\n",
       "        text-align: right;\n",
       "    }\n",
       "</style>\n",
       "<table border=\"1\" class=\"dataframe\">\n",
       "  <thead>\n",
       "    <tr style=\"text-align: right;\">\n",
       "      <th></th>\n",
       "      <th>name</th>\n",
       "      <th>nametype</th>\n",
       "      <th>recclass</th>\n",
       "      <th>mass</th>\n",
       "      <th>fall</th>\n",
       "      <th>year</th>\n",
       "      <th>reclat</th>\n",
       "      <th>reclong</th>\n",
       "      <th>geolocation</th>\n",
       "      <th>:@computed_region_cbhk_fwbd</th>\n",
       "      <th>:@computed_region_nnqa_25f4</th>\n",
       "    </tr>\n",
       "    <tr>\n",
       "      <th>id</th>\n",
       "      <th></th>\n",
       "      <th></th>\n",
       "      <th></th>\n",
       "      <th></th>\n",
       "      <th></th>\n",
       "      <th></th>\n",
       "      <th></th>\n",
       "      <th></th>\n",
       "      <th></th>\n",
       "      <th></th>\n",
       "      <th></th>\n",
       "    </tr>\n",
       "  </thead>\n",
       "  <tbody>\n",
       "    <tr>\n",
       "      <th>5163</th>\n",
       "      <td>Bulls Run</td>\n",
       "      <td>Valid</td>\n",
       "      <td>Iron?</td>\n",
       "      <td>2250.0</td>\n",
       "      <td>Fell</td>\n",
       "      <td>1964-01-01T00:00:00.000</td>\n",
       "      <td>NaN</td>\n",
       "      <td>NaN</td>\n",
       "      <td>NaN</td>\n",
       "      <td>NaN</td>\n",
       "      <td>NaN</td>\n",
       "    </tr>\n",
       "    <tr>\n",
       "      <th>5383</th>\n",
       "      <td>Clohars</td>\n",
       "      <td>Valid</td>\n",
       "      <td>L4</td>\n",
       "      <td>48.6</td>\n",
       "      <td>Fell</td>\n",
       "      <td>1822-01-01T00:00:00.000</td>\n",
       "      <td>NaN</td>\n",
       "      <td>NaN</td>\n",
       "      <td>NaN</td>\n",
       "      <td>NaN</td>\n",
       "      <td>NaN</td>\n",
       "    </tr>\n",
       "    <tr>\n",
       "      <th>12068</th>\n",
       "      <td>Jalanash</td>\n",
       "      <td>Valid</td>\n",
       "      <td>Ureilite</td>\n",
       "      <td>700.0</td>\n",
       "      <td>Fell</td>\n",
       "      <td>1990-01-01T00:00:00.000</td>\n",
       "      <td>NaN</td>\n",
       "      <td>NaN</td>\n",
       "      <td>NaN</td>\n",
       "      <td>NaN</td>\n",
       "      <td>NaN</td>\n",
       "    </tr>\n",
       "    <tr>\n",
       "      <th>12079</th>\n",
       "      <td>Jemlapur</td>\n",
       "      <td>Valid</td>\n",
       "      <td>L6</td>\n",
       "      <td>450.0</td>\n",
       "      <td>Fell</td>\n",
       "      <td>1901-01-01T00:00:00.000</td>\n",
       "      <td>NaN</td>\n",
       "      <td>NaN</td>\n",
       "      <td>NaN</td>\n",
       "      <td>NaN</td>\n",
       "      <td>NaN</td>\n",
       "    </tr>\n",
       "    <tr>\n",
       "      <th>32531</th>\n",
       "      <td>Cumulus Hills 04075</td>\n",
       "      <td>Valid</td>\n",
       "      <td>Pallasite</td>\n",
       "      <td>9.6</td>\n",
       "      <td>Found</td>\n",
       "      <td>2003-01-01T00:00:00.000</td>\n",
       "      <td>NaN</td>\n",
       "      <td>NaN</td>\n",
       "      <td>NaN</td>\n",
       "      <td>NaN</td>\n",
       "      <td>NaN</td>\n",
       "    </tr>\n",
       "    <tr>\n",
       "      <th>15418</th>\n",
       "      <td>Maria Linden</td>\n",
       "      <td>Valid</td>\n",
       "      <td>L4</td>\n",
       "      <td>114.0</td>\n",
       "      <td>Fell</td>\n",
       "      <td>1925-01-01T00:00:00.000</td>\n",
       "      <td>NaN</td>\n",
       "      <td>NaN</td>\n",
       "      <td>NaN</td>\n",
       "      <td>NaN</td>\n",
       "      <td>NaN</td>\n",
       "    </tr>\n",
       "    <tr>\n",
       "      <th>16923</th>\n",
       "      <td>Natal</td>\n",
       "      <td>Valid</td>\n",
       "      <td>Stone-uncl</td>\n",
       "      <td>1.4</td>\n",
       "      <td>Fell</td>\n",
       "      <td>1973-01-01T00:00:00.000</td>\n",
       "      <td>NaN</td>\n",
       "      <td>NaN</td>\n",
       "      <td>NaN</td>\n",
       "      <td>NaN</td>\n",
       "      <td>NaN</td>\n",
       "    </tr>\n",
       "    <tr>\n",
       "      <th>16974</th>\n",
       "      <td>Niger (L6)</td>\n",
       "      <td>Valid</td>\n",
       "      <td>L6</td>\n",
       "      <td>3.3</td>\n",
       "      <td>Fell</td>\n",
       "      <td>1967-01-01T00:00:00.000</td>\n",
       "      <td>NaN</td>\n",
       "      <td>NaN</td>\n",
       "      <td>NaN</td>\n",
       "      <td>NaN</td>\n",
       "      <td>NaN</td>\n",
       "    </tr>\n",
       "    <tr>\n",
       "      <th>16975</th>\n",
       "      <td>Niger (LL6)</td>\n",
       "      <td>Valid</td>\n",
       "      <td>LL6</td>\n",
       "      <td>3.3</td>\n",
       "      <td>Fell</td>\n",
       "      <td>1967-01-01T00:00:00.000</td>\n",
       "      <td>NaN</td>\n",
       "      <td>NaN</td>\n",
       "      <td>NaN</td>\n",
       "      <td>NaN</td>\n",
       "      <td>NaN</td>\n",
       "    </tr>\n",
       "    <tr>\n",
       "      <th>32591</th>\n",
       "      <td>Dominion Range 03239</td>\n",
       "      <td>Valid</td>\n",
       "      <td>L6</td>\n",
       "      <td>69.5</td>\n",
       "      <td>Found</td>\n",
       "      <td>2002-01-01T00:00:00.000</td>\n",
       "      <td>NaN</td>\n",
       "      <td>NaN</td>\n",
       "      <td>NaN</td>\n",
       "      <td>NaN</td>\n",
       "      <td>NaN</td>\n",
       "    </tr>\n",
       "    <tr>\n",
       "      <th>32592</th>\n",
       "      <td>Dominion Range 03240</td>\n",
       "      <td>Valid</td>\n",
       "      <td>LL5</td>\n",
       "      <td>290.9</td>\n",
       "      <td>Found</td>\n",
       "      <td>2002-01-01T00:00:00.000</td>\n",
       "      <td>NaN</td>\n",
       "      <td>NaN</td>\n",
       "      <td>NaN</td>\n",
       "      <td>NaN</td>\n",
       "      <td>NaN</td>\n",
       "    </tr>\n",
       "    <tr>\n",
       "      <th>23791</th>\n",
       "      <td>Talampaya</td>\n",
       "      <td>Valid</td>\n",
       "      <td>Eucrite-cm</td>\n",
       "      <td>1421.0</td>\n",
       "      <td>Fell</td>\n",
       "      <td>1995-01-01T00:00:00.000</td>\n",
       "      <td>NaN</td>\n",
       "      <td>NaN</td>\n",
       "      <td>NaN</td>\n",
       "      <td>NaN</td>\n",
       "      <td>NaN</td>\n",
       "    </tr>\n",
       "  </tbody>\n",
       "</table>\n",
       "</div>"
      ],
      "text/plain": [
       "                       name nametype    recclass    mass   fall  \\\n",
       "id                                                                \n",
       "5163              Bulls Run    Valid       Iron?  2250.0   Fell   \n",
       "5383                Clohars    Valid          L4    48.6   Fell   \n",
       "12068              Jalanash    Valid    Ureilite   700.0   Fell   \n",
       "12079              Jemlapur    Valid          L6   450.0   Fell   \n",
       "32531   Cumulus Hills 04075    Valid   Pallasite     9.6  Found   \n",
       "15418          Maria Linden    Valid          L4   114.0   Fell   \n",
       "16923                 Natal    Valid  Stone-uncl     1.4   Fell   \n",
       "16974            Niger (L6)    Valid          L6     3.3   Fell   \n",
       "16975           Niger (LL6)    Valid         LL6     3.3   Fell   \n",
       "32591  Dominion Range 03239    Valid          L6    69.5  Found   \n",
       "32592  Dominion Range 03240    Valid         LL5   290.9  Found   \n",
       "23791             Talampaya    Valid  Eucrite-cm  1421.0   Fell   \n",
       "\n",
       "                          year  reclat  reclong geolocation  \\\n",
       "id                                                            \n",
       "5163   1964-01-01T00:00:00.000     NaN      NaN         NaN   \n",
       "5383   1822-01-01T00:00:00.000     NaN      NaN         NaN   \n",
       "12068  1990-01-01T00:00:00.000     NaN      NaN         NaN   \n",
       "12079  1901-01-01T00:00:00.000     NaN      NaN         NaN   \n",
       "32531  2003-01-01T00:00:00.000     NaN      NaN         NaN   \n",
       "15418  1925-01-01T00:00:00.000     NaN      NaN         NaN   \n",
       "16923  1973-01-01T00:00:00.000     NaN      NaN         NaN   \n",
       "16974  1967-01-01T00:00:00.000     NaN      NaN         NaN   \n",
       "16975  1967-01-01T00:00:00.000     NaN      NaN         NaN   \n",
       "32591  2002-01-01T00:00:00.000     NaN      NaN         NaN   \n",
       "32592  2002-01-01T00:00:00.000     NaN      NaN         NaN   \n",
       "23791  1995-01-01T00:00:00.000     NaN      NaN         NaN   \n",
       "\n",
       "       :@computed_region_cbhk_fwbd  :@computed_region_nnqa_25f4  \n",
       "id                                                               \n",
       "5163                           NaN                          NaN  \n",
       "5383                           NaN                          NaN  \n",
       "12068                          NaN                          NaN  \n",
       "12079                          NaN                          NaN  \n",
       "32531                          NaN                          NaN  \n",
       "15418                          NaN                          NaN  \n",
       "16923                          NaN                          NaN  \n",
       "16974                          NaN                          NaN  \n",
       "16975                          NaN                          NaN  \n",
       "32591                          NaN                          NaN  \n",
       "32592                          NaN                          NaN  \n",
       "23791                          NaN                          NaN  "
      ]
     },
     "execution_count": 117,
     "metadata": {},
     "output_type": "execute_result"
    }
   ],
   "source": [
    "# checking wether there is any similarity where reclat data is missing\n",
    "data[data.reclat.isnull()]"
   ]
  },
  {
   "cell_type": "code",
   "execution_count": 23,
   "id": "e965288d",
   "metadata": {
    "scrolled": true
   },
   "outputs": [
    {
     "data": {
      "text/plain": [
       "<AxesSubplot:>"
      ]
     },
     "execution_count": 23,
     "metadata": {},
     "output_type": "execute_result"
    },
    {
     "data": {
      "image/png": "[encoded data removed]",
      "text/plain": [
       "<Figure size 640x480 with 1 Axes>"
      ]
     },
     "metadata": {},
     "output_type": "display_data"
    }
   ],
   "source": [
    "# realation between fell and found meteorites\n",
    "data.fall.value_counts().plot(kind='bar')"
   ]
  },
  {
   "cell_type": "code",
   "execution_count": 119,
   "id": "511a8ca6",
   "metadata": {},
   "outputs": [],
   "source": [
    "#### vary few meteorites have been found"
   ]
  },
  {
   "cell_type": "markdown",
   "id": "c44eeea5",
   "metadata": {},
   "source": [
    "## Get all the Earth meteorites that fell before the year 2000"
   ]
  },
  {
   "cell_type": "code",
   "execution_count": 120,
   "id": "305a5a52",
   "metadata": {
    "scrolled": true
   },
   "outputs": [],
   "source": [
    "#feeling missing data\n",
    "data.year.fillna('0000-00-00T00:00:00:000',inplace=True)"
   ]
  },
  {
   "cell_type": "code",
   "execution_count": 125,
   "id": "0350e607",
   "metadata": {},
   "outputs": [],
   "source": [
    "#filtering the meteorites that fell before the year 2000\n",
    "flag=[]\n",
    "for i in data.year:\n",
    "    if int(i[:4]) < 2000:\n",
    "        flag.append(True)\n",
    "    else:\n",
    "        flag.append(False)"
   ]
  },
  {
   "cell_type": "code",
   "execution_count": 126,
   "id": "29fa7018",
   "metadata": {},
   "outputs": [
    {
     "name": "stdout",
     "output_type": "stream",
     "text": [
      " Names of 930 meteorites that fell before the year 2000 are \n",
      " ['Aachen', 'Aarhus', 'Abee', 'Acapulco', 'Achiras', 'Adhi Kot', 'Adzhi-Bogdo (stone)', 'Agen', 'Aguada', 'Aguila Blanca', 'Aioun el Atrouss', 'Aïr', 'Aire-sur-la-Lys', 'Akaba', 'Akbarpur', 'Akwanga', 'Akyumak', 'Al Rais', 'Alais', 'Albareto', 'Alberta', 'Aldsworth', 'Aleppo', 'Alessandria', 'Alexandrovsky', 'Alfianello', 'Allegan', 'Allende', \"Alta'ameem\", 'Ambapur Nagla', 'Andhara', 'Andover', 'Andreevka', 'Andura', 'Northwest Africa 5815', 'Angers', 'Angra dos Reis (stone)', 'Ankober', 'Anlong', 'Aomori', 'Appley Bridge', 'Apt', 'Arbol Solo', 'Archie', 'Arroyo Aguiar', 'Asco', 'Ashdon', 'Assisi', 'Atarra', 'Atemajac', 'Athens', 'Atoka', 'Aubres', 'Aumale', 'Aumieres', 'Ausson', 'Avanhandava', 'Avce', 'Avilez', 'Awere', 'Aztec', 'Bachmut', 'Bahjoi', 'Bald Mountain', 'Baldwyn', 'Bali', 'Ban Rong Du', 'Bandong', 'Bansur', 'Banswal', 'Banten', 'Barbotan', 'Barcelona (stone)', 'Barea', 'Barnaul', 'Barntrup', 'Baroti', 'Barwell', 'Baszkówka', 'Bath', 'Bath Furnace', 'Bawku', 'Baxter', 'Beardsley', 'Beaver Creek', 'Beddgelert', 'Bells', 'Belville', 'Benares (a)', 'Benld', 'Benoni', 'Benton', 'Béréba', 'Berlanguillas', 'Bethlehem', 'Beuste', 'Beyrout', 'Bhagur', 'Bherai', 'Bhola', 'Bholghati', 'Bialystok', 'Bielokrynitschie', 'Bilanga', 'Binningup', \"Birni N'konni\", 'Bishopville', 'Bishunpur', 'Bjelaja Zerkov', 'Bjurböle', 'Black Moshannan Park', 'Blackwell', 'Blanket', 'Blansko', 'Bloomington', 'Bo Xian', 'Bocas', 'Bogou', 'Boguslavka', 'Borgo San Donino', 'Bori', 'Boriskino', 'Borkut', 'Borodino', 'Botschetschki', 'Bovedy', 'Bradford Woods', 'Braunau', 'Breitscheid', 'Bremervörde', 'Brient', 'Bruderheim', 'Bulls Run', 'Bununu', 'Bur-Gheluai', 'Burnwell', 'Bursa', 'Buschhof', 'Bustee', 'Butsura', 'Cabezo de Mayo', 'Cabin Creek', 'Cacak', 'Calivo', 'Campos Sales', 'Çanakkale', 'Cañellas', 'Cangas de Onis', 'Canon City', 'Cape Girardeau', 'Capilla del Monte', 'Caratash', 'Castalia', 'Castel Berardenga', 'Castine', 'Castrovillari', 'Caswell County', 'Ceniceros', 'Centerville', 'Cereseto', 'Chadong', 'Chail', 'Chainpur', 'Chajari', 'Chandakapur', 'Chandpur', 'Changde', 'Chantonnay', 'Charlotte', 'Charsonville', 'Charwallas', 'Chassigny', 'Château-Renard', 'Chaves', 'Chela', 'Chernyi Bor', 'Cherokee Springs', 'Chervettaz', 'Chervony Kut', 'Chetrinahatti', 'Chiang Khan', 'Chicora', 'Chisenga', 'Chitado', 'Chitenay', 'Cilimus', 'Claxton', 'Clohars', 'Colby (Wisconsin)', 'Cold Bokkeveld', 'Coleman', 'Collescipoli', 'Conquista', 'Cosina', 'Cranganore', 'Crescent', 'Cronstad', 'Cross Roads', 'Crumlin', 'Cumberland Falls', 'Cynthiana', 'Dahmani', 'Dandapur', \"Daniel's Kuil\", 'Danville', 'Darmstadt', 'Dashoguz', 'De Cewsville', 'Deal', 'Delhi', 'Demina', 'Denver', 'Desuri', 'Devri-Khera', 'Dhajala', 'Dharwar', 'Dhurmsala', 'Diep River', 'Distrito Quebracho', 'Djati-Pengilon', 'Djermaia', 'Djoumine', 'Dokachi', 'Dolgovoli', 'Domanitch', 'Dong Ujimqin Qi', 'Donga Kohrod', 'Dongtai', 'Doroninsk', 'Dosso', 'Douar Mghila', 'Dowa', 'Drake Creek', 'Dresden (Ontario)', 'Dubrovnik', 'Dunbogan', 'Dundrum', 'Dunhua', 'Durala', 'Duruma', 'Duwun', 'Dwaleni', 'Dyalpur', 'Dyarrl Island', 'Eagle', 'Ehole', 'Eichstädt', 'Ekeby', 'Ekh Khera', 'El Idrissia', 'El Paso de Aguila', 'El Tigre', 'Elbert', 'Elbogen', 'Elenovka', 'Ellemeet', 'Emmaville', 'Enshi', 'Ensisheim', 'Épinal', 'Erakot', 'Erevan', 'Ergheo', 'Erxleben', 'Esnandes', 'Essebi', 'Estherville', 'Farmington', 'Farmville', 'Favars', 'Fayetteville', 'Feid Chair', 'Felix', 'Fenghsien-Ku', 'Ferguson', 'Fermo', 'Fisher', 'Florence', 'Forest City', 'Forest Vale', 'Forksville', 'Forsbach', 'Forsyth', 'Fort Flatters', 'Frankfort (stone)', 'Fuhe', 'Fukutomi', 'Fünen', 'Futtehpur', 'Fuyang', 'Galapian', 'Galim (a)', 'Galim (b)', 'Galkiv', 'Gambat', 'Gao-Guenie', 'Garhi Yasin', 'Garland', 'Gashua', 'Geidam', 'Gifu', 'Girgenti', 'Git-Git', 'Glanerbrug', 'Glanggang', 'Glasatovo', 'Glatton', 'Gnadenfrei', 'Gopalpur', 'Gorlovka', 'Granes', 'Grefsheim', 'Grosnaja', 'Gross-Divina', 'Grossliebenthal', 'Grüneberg', 'Grzempach', 'Gualeguaychú', 'Guangmingshan', 'Guangnan', 'Guangrao', 'Guareña', 'Guêa', 'Guibga', 'Guidder', 'Gujargaon', 'Gujba', 'Gumoschnik', 'Gurram Konda', 'Gursum', 'Gütersloh', 'Gyokukei', 'Hachi-oji', 'Hainaut', 'Hallingeberg', 'Hamlet', 'Haraiya', 'Haripura', 'Harleton', 'Harrison County', 'Hashima', 'Hassi-Jekna', 'Hatford', 'Haverö', 'Hedeskoga', 'Hedjaz', 'Heredia', 'Hessle', 'Higashi-koen', 'High Possil', 'Hökmark', 'Holbrook', 'Holetta', 'Homestead', 'Honolulu', 'Hotse', 'Hoxie', 'Hraschina', 'Hungen', 'Hvittis', 'Ibbenbüren', 'Ibitira', 'Ibrisim', 'Ichkala', 'Idutywa', 'Iguaracu', 'Ijopega', 'Indarch', 'Independence', 'Inner Mongolia', 'Innisfree', 'Ipiranga', 'Ishinga', 'Isthilart', 'Itapicuru-Mirim', 'Itqiy', 'Ivuna', 'Jackalsfontein', 'Jajh deh Kot Lalu', 'Jalanash', 'Jalandhar', 'Jamkheir', 'Jartai', 'Jelica', 'Jemlapur', 'Jhung', 'Jiange', 'Jianshi', 'Jilin', 'Jodzie', 'Johnstown', 'Jolomba', 'Jonzac', 'Juancheng', 'Judesegeri', 'Jumapalo', 'Junan', 'Juromenha', 'Juvinas', 'Kaba', 'Kabo', 'Kadonah', 'Kaee', 'Kagarlyk', 'Kaidun', 'Kainsaz', 'Kakangari', 'Kakowa', 'Kalaba', 'Kalumbi', 'Kamalpur', 'Kamiomi', 'Kamsagar', 'Kandahar (Afghanistan)', 'Kangean', 'Kangra Valley', 'Kapoeta', 'Kaptal-Aryk', 'Karakol', 'Karatu', 'Karewar', 'Karkh', 'Karloowala', 'Karoonda', 'Kasamatsu', 'Katagum', 'Kayakent', 'Kediri', 'Kendleton', 'Kerilis', 'Kernouve', 'Kesen', 'Khairpur', 'Khanpur', 'Kharkov', 'Kheragur', 'Khetri', 'Khmelevka', 'Khohar', 'Khor Temiki', 'Kidairat', 'Kiel', 'Kiffa', 'Kijima (1906)', 'Kikino', 'Kilbourn', 'Killeter', 'Kingai', 'Kirbyville', 'Kisvarsány', 'Kitchener', 'Klein-Wenden', 'Knyahinya', 'Kobe', 'Kokubunji', 'Komagome', 'Konovo', 'Krähenberg', 'Krasnoi-Ugol', 'Krasnyi Klyuch', 'Krutikha', 'Krymka', 'Kukschin', 'Kulak', 'Kuleschovka', 'Kulp', 'Kunashak', 'Kunya-Urgench', 'Kushiike', 'Kusiali', 'Kutais', 'Kuttippuram', 'Kuznetzovo', 'Kyushu', 'La Bécasse', 'La Charca', 'La Colina', 'La Criolla', 'Laborel', 'Lahrauli', \"L'Aigle\", 'Lakangaon', 'Lalitpur', 'Lancé', 'Lancon', 'Långhalsen', 'Lanxi', 'Lanzenkirchen', 'Laochenzhen', 'Launton', 'Lavrentievka', 'Le Pressoir', 'Le Teilleul', 'Leedey', 'Leeuwfontein', 'Leighlinbridge', 'Leighton', 'Leonovka', 'Les Ormes', 'Lesves', 'Lichtenberg', 'Lillaverke', 'Limerick', 'Linum', 'Lishui', 'Lissa', 'Little Piney', 'Lixna', 'Lodran', 'Lohawat', 'Los Martinez', 'Lost City', 'Louisville', 'Łowicz', 'Lua', 'Lucé', 'Lumpkin', 'Lunan', 'Lundsgård', 'Luotolax', 'Luponnas', 'Lusaka', 'Mabwe-Khoywa', 'Macau', 'Machinga', 'Macibini', 'Madhipura', 'Madiun', 'Madrid', 'Mafra', 'Magnesia', 'Magombedze', 'Malaga', 'Malakal', 'Malampaka', 'Malotas', 'Malvern', 'Mamra Springs', 'Manbhoom', 'Manegaon', 'Mangwendi', 'Manych', 'Mardan', 'Maria Linden', 'Mariaville', 'Maridi', 'Marilia', 'Marion (Iowa)', 'Marjalahti', 'Marmande', 'Maryville', 'Mascombes', 'Mässing', 'Mauerkirchen', 'Mauritius', 'Mayo Belwa', 'Mazapil', 'Maziba', 'Mbale', 'Medanitos', 'Meerut', 'Meester-Cornelis', 'Menow', 'Menziswyl', 'Mern', 'Meru', 'Merua', 'Messina', 'Meuselbach', 'Mezel', 'Mezö-Madaras', 'Mhow', 'Mianchi', 'Middlesbrough', 'Mighei', 'Mihonoseki', 'Mike', 'Milena', 'Millbillillie', 'Miller (Arkansas)', 'Minamino', 'Mineo', 'Min-Fan-Zhun', 'Minnichhof', 'Mirzapur', 'Misshof', 'Mjelleim', 'Mocs', 'Modoc (1905)', 'Mokoia', 'Molina', 'Molteno', 'Monahans (1998)', 'Monroe', 'Monte das Fortes', 'Monte Milone', 'Montferré', 'Montlivault', 'Monze', 'Moore County', 'Mooresfort', 'Moorleah', 'Moradabad', 'Mornans', 'Moti-ka-nagla', 'Motta di Conti', 'Mount Browne', 'Mount Tazerzait', 'Mount Vaisi', 'Mtola', 'Muddoor', 'Mulletiwu', 'Muraid', 'Murchison', 'Murray', 'Muzaffarpur', 'Myhee Caunta', 'Nadiabondi', 'Nagai', 'Nagaria', 'Nagy-Borové', 'Nakhla', 'Nakhon Pathom', 'Nammianthal', 'Nan Yang Pao', 'Nanjemoy', 'Nantong', 'Naoki', 'Naragh', 'Narellan', 'Narni', 'Nassirah', 'Natal', 'Nawapali', 'Neagari', 'Nedagolla', 'Nejo', 'Nerft', 'New Concord', 'New Halfa', 'Ngawi', \"N'Goureyma\", 'Nicorps', 'Niger (L6)', 'Niger (LL6)', 'Nikolaevka', 'Nikolskoe', 'Ningbo', 'Ningqiang', 'Nio', \"N'Kandhla\", 'Nobleborough', 'Noblesville', 'Nogata', 'Nogoya', 'Norfork', 'Norton County', 'Noventa Vicentina', 'Novo-Urei', 'Novy-Ergi', 'Novy-Projekt', 'Noyan-Bogdo', 'Nuevo Mercurio', 'Nulles', 'Numakai', 'Nyaung', 'Nyirábrany', 'Ochansk', 'Oesede', 'Oesel', 'Ofehértó', 'Ogi', 'Ohaba', 'Ohuma', 'Ojuelos Altos', 'Okabe', 'Okano', 'Okniny', 'Oldenburg (1930)', 'Oliva-Gandia', 'Olivenza', 'Olmedilla de Alarcón', 'Omolon', 'Orgueil', 'Ornans', 'Ortenau', 'Orvinio', 'Oterøy', 'Otomi', 'Ottawa', 'Oued el Hadjar', 'Ourique', 'Ovambo', 'Oviedo', 'Owrucz', 'Pacula', 'Padvarninkai', 'Paitan', 'Palahatchie', 'Palca de Aparzo', 'Palinshih', 'Palmyra', 'Palolo Valley', 'Pampanga', 'Pantar', 'Paragould', 'Parambu', 'Paranaiba', 'Parnallee', 'Parsa', 'Pasamonte', 'Patora', 'Patrimonio', 'Patti', 'Patwar', 'Pavel', 'Pavlodar (stone)', 'Pavlograd', 'Pavlovka', 'Pê', 'Peace River', 'Peckelsheim', 'Peekskill', 'Peña Blanca Spring', 'Peramiho', 'Perpeti', 'Perth', 'Pervomaisky', 'Pesyanoe', 'Pétèlkolé', 'Petersburg', 'Pettiswood', 'Phillips County (stone)', 'Phu Hong', 'Phum Sambo', 'Phuoc-Binh', 'Piancaldoli', 'Picote', 'Pillistfer', 'Piplia Kalan', 'Piquetberg', 'Pirgunje', 'Pirthalla', 'Pitts', 'Plantersville', 'Ploschkovitz', 'Pnompehn', 'Pohlitz', 'Pokhra', 'Pollen', 'Pontlyfni', 'Portales Valley', 'Portugal', 'Po-wang Chen', 'Prambachkirchen', 'Pribram', 'Pricetown', 'Pulsora', 'Pultusk', 'Punganaru', 'Putinga', 'Qidong', 'Qingzhen', \"Queen's Mercy\", 'Quenggouk', 'Quesa', 'Quija', 'Quincay', 'Raco', 'Raghunathpura', 'Rahimyar Khan', 'Rakovka', 'Ramnagar', 'Rampurhat', 'Ramsdorf', 'Ranchapur', 'Rancho de la Presa', 'Rangala', 'Raoyang', 'Ras Tanura', 'Rasgrad', 'Ratyn', 'Reliegos', 'Rembang', 'Renazzo', 'Renca', 'Renqiu', 'Repeev Khutor', 'Revelstoke', 'Rewari', 'Rich Mountain', 'Uzcudun', 'Richardton', 'Richland Springs', 'Richmond', 'Rio Negro', 'Rivolta de Bassi', 'Rochester', 'Rockhampton', 'Roda', 'Rodach', 'Rose City', 'Rowton', 'Ruhobobo', 'Rumuruti', 'Rupota', 'Ryechki', 'Sabetmahet', 'Sabrum', 'Sagan', 'Saint-Sauveur', 'Saint-Séverin', 'Sakauchi', 'Salem', 'Salles', 'Salzwedel', 'Samelia', 'San Juan Capistrano', 'San Pedro de Quiles', 'San Pedro Jacuaro', 'Santa Barbara', 'Santa Cruz', 'Santa Isabel', 'São Jose do Rio Preto', 'Saratov', 'Sasagase', 'Sauguis', 'Savtschenskoje', 'Sayama', 'Sazovice', 'Schellin', 'Schenectady', 'Schönenberg', 'Searsmont', 'Sediköy', 'Segowlie', 'Selakopi', 'Seldebourak', 'Semarkona', 'Sena', 'Senboku', 'Seoni', 'Seres', 'Serra de Magé', 'Sete Lagoas', 'Sevilla', 'Sevrukovo', 'Sfax', 'Shalka', 'Sharps', 'Shelburne', 'Shergotty', 'Sheyang', 'Shikarpur', 'Shuangyang', 'Shupiyan', 'Shytal', 'Siena', 'Sikhote-Alin', 'Silao', 'Silistra', 'Simmern', 'Sinai', 'Sindhri', 'Sinnai', 'Sioux County', 'Sitathali', 'Sivas', 'Sixiangkou', 'Ski', 'Slavetic', 'Slobodka', 'Soheria', 'Soko-Banja', 'Sologne', 'Sone', 'Songyuan', 'Sopot', 'Soroti', 'St. Caprais-de-Quinsac', 'St. Christophe-la-Chartreuse', 'St. Denis Westrem', 'St. Germain-du-Pinel', 'St. Louis', \"St. Mark's\", \"St. Mary's County\", 'St. Mesmin', 'St. Michel', 'St.-Chinian', 'Ställdalen', 'Stannern', 'Stavropol', 'Ste. Marguerite', 'Sterlitamak', 'Stolzenau', 'Stratford', 'Strathmore', 'Stretchleigh', 'St-Robert', 'Success', 'Suchy Dul', 'Suizhou', 'Sultanpur', 'Sungach', 'Supuhee', 'Sylacauga', 'Tabor', 'Tadjera', 'Tahara', 'Takenouchi', 'Talampaya', 'Tambakwatu', 'Tané', 'Taonan', 'Tatahouine', 'Tathlith', 'Tauk', 'Tauti', 'Tenham', 'Tennasilm', 'Thal', 'Tianzhang', 'Tieschitz', 'Tilden', 'Tillaberi', 'Timochin', 'Tirupati', 'Tjabe', 'Tjerebon', 'Tomakovka'],"
     ]
    }
   ],
   "source": [
    "# names of meteorites that fell before the year 2000\n",
    "print(f' Names of {len(data.name[flag])} meteorites that fell before the year 2000 are \\n',list(data.name[flag]),end=',')"
   ]
  },
  {
   "cell_type": "markdown",
   "id": "8700de75",
   "metadata": {},
   "source": [
    "### there are total 930 meteorite which fell before year 2000"
   ]
  },
  {
   "cell_type": "markdown",
   "id": "dcaccc0b",
   "metadata": {},
   "source": [
    "## Get all the earth meteorites co-ordinates who fell before the year 1970"
   ]
  },
  {
   "cell_type": "code",
   "execution_count": 87,
   "id": "e8c5c32e",
   "metadata": {},
   "outputs": [
    {
     "name": "stdout",
     "output_type": "stream",
     "text": [
      "\n",
      " 781\n",
      "[(50.775, 6.08333), (56.18333, 10.23333), (54.21667, -113.0), (-33.16667, -64.95), (32.1, 71.8), (44.83333, 95.16667), (44.21667, 0.61667), (-31.6, -65.23333), (-30.86667, -64.55), (19.08333, 8.38333), (50.66667, 2.33333), (29.51667, 35.05), (29.71667, 77.95), (8.91667, 8.43333), (24.41667, 39.51667), (44.11667, 4.08333), (44.65, 11.01667), (2.0, 22.66667), (51.78333, -1.78333), (36.23333, 37.13333), (44.88333, 8.75), (50.95, 31.81667), (45.26667, 10.15), (42.53333, -85.88333), (26.96667, -105.31667), (27.66667, 78.25), (26.58333, 85.56667), (44.61667, -70.75), (48.7, 37.5), (20.88333, 76.86667), (0.0, 0.0), (47.46667, -0.55), (-22.96667, -44.31667), (9.53333, 39.71667), (53.58333, -2.71667), (43.86667, 5.38333), (-33.0, -66.0), (38.5, -94.3), (-31.41667, -60.66667), (42.45, 9.03333), (52.05, 0.3), (43.03333, 12.55), (25.25417, 80.625), (20.06667, -103.66667), (34.75, -87.0), (34.31667, -96.15), (44.38333, 5.16667), (36.16667, 3.66667), (44.33333, 3.23333), (43.08333, 0.58333), (-21.46028, -49.95083), (46.0, 13.5), (25.0, -103.5), (2.71667, 32.83333), (36.8, -108.0), (48.6, 38.0), (28.48333, 78.5), (35.96667, -82.48333), (34.5, -88.66667), (5.38333, 16.38333), (-6.91667, 107.6), (27.7, 76.33333), (30.4, 78.2), (-6.33333, 106.0), (43.95, -0.05), (41.36667, 2.16667), (42.38333, -2.5), (52.73333, 84.08333), (52.0, 9.1), (31.61667, 76.8), (52.56528, -1.33972), (45.41667, -98.31667), (38.25, -83.75), (36.75, -93.5), (39.8, -101.2), (51.16667, -117.33333), (53.01667, -4.1), (33.6, -96.46667), (-32.33333, -64.86667), (25.36667, 82.91667), (39.08333, -89.15), (-26.16667, 28.41667), (45.95, -67.55), (11.65, -3.65), (41.68333, -3.8), (42.53333, -73.83333), (43.21667, -0.23333), (33.88333, 35.5), (20.88333, 74.83333), (20.83333, 71.46667), (22.68333, 90.65), (22.08333, 86.9), (53.1, 23.2), (50.13333, 27.16667), (13.76667, 5.3), (34.16667, -80.28333), (25.38333, 82.6), (49.78333, 30.16667), (60.4, 25.8), (40.91667, -78.08333), (36.83333, -97.33333), (31.83333, -98.83333), (49.36667, 16.63333), (40.48, -89.00417), (23.0, -102.0), (12.5, 0.7), (44.55, 131.63333), (44.86667, 10.05), (21.95, 78.03333), (54.23333, 52.48333), (48.15, 24.28333), (55.46667, 35.86667), (51.33333, 33.88333), (54.56667, -6.33333), (40.5, -80.08333), (50.6, 16.3), (50.66694, 8.18361), (53.4, 9.1), (52.13333, 59.31667), (53.9, -112.88333), (nan, nan), (10.01667, 9.58333), (5.0, 48.0), (40.2, 29.23333), (46.45, 25.78333), (26.78333, 82.83333), (27.08333, 84.08333), (37.98333, -1.16667), (35.5, -93.5), (43.83889, 20.33333), (11.75, 122.33333), (39.8, 26.6), (41.25, 1.66667), (43.38333, -5.15), (37.26667, -89.58333), (-30.88333, -64.55), (38.5, 27.0), (36.08333, -78.06667), (43.35, 11.5), (44.38333, -68.75), (39.8, 16.2), (36.5, -79.25), (43.2, -96.91667), (45.08333, 8.3), (25.36667, 81.66667), (25.85, 83.48333), (-30.78333, -58.05), (20.26667, 76.01667), (27.28333, 79.05), (46.68333, 1.05), (36.16667, -87.33333), (47.93333, 1.56667), (29.48333, 75.5), (47.71667, 5.36667), (47.93333, 2.91667), (41.93333, -7.46667), (53.7, 30.1), (35.03333, -81.88333), (46.55, 6.81667), (50.83333, 34.0), (14.5, 76.5), (40.93333, -79.73333), (-17.35, 13.96667), (nan, nan), (44.9, -90.28333), (-33.13333, 19.38333), (42.53333, 12.61667), (-19.85, -47.55), (21.16667, -100.86667), (10.2, 76.26667), (35.95, -97.58333), (-27.7, 27.3), (35.63333, -78.13333), (54.61667, -6.21667), (36.83333, -84.35), (38.4, -84.25), (26.91667, 83.96667), (-28.2, 24.56667), (34.4, -87.06667), (49.86667, 8.65), (43.0, -80.0), (40.25, -74.0), (28.56667, 77.25), (51.46667, 84.76667), (39.7825, -104.93056), (25.73333, 73.61667), (14.88333, 75.6), (32.23333, 76.46667), (-33.75, 18.56667), (-31.88333, -60.46667), (-7.5, 111.5), (12.73333, 15.05), (23.5, 90.33333), (50.75, 25.3), (40.0, 29.0), (21.86667, 82.45), (51.2, 112.3), (13.05, 3.16667), (32.33333, -6.3), (36.4, -86.5), (42.52, -82.26), (42.45833, 18.44167), (52.55, -8.03333), (30.3, 76.63333), (-4.0, 39.5), (33.43333, 127.26667), (26.25, 82.0), (-3.0, 151.0), (40.78167, -96.47167), (-17.3, 15.83333), (48.9, 11.21667), (56.03333, 13.0), (28.26667, 78.78333), (50.18333, 12.73333), (47.83333, 37.66667), (51.75, 4.0), (-29.46667, 151.61667), (47.86667, 7.35), (48.18333, 6.46667), (19.03333, 81.89167), (40.3, 44.5), (1.16667, 44.16667), (52.21667, 11.25), (46.25, -1.1), (2.88333, 30.83333), (43.41667, -94.83333), (39.75, -97.03333), (35.55, -77.53333), (44.38333, 2.81667), (36.05, -94.16667), (36.88333, 8.45), (32.53333, -87.16667), (34.6, 116.75), (36.1, -81.41667), (47.81667, -96.85), (30.83333, -97.76667), (43.25, -93.66667), (-33.35, 146.85833), (36.78333, -78.08333), (50.95, 7.31667), (33.01667, -83.96667), (28.25, 7.0), (34.48333, -87.83333), (31.47556, 113.56694), (33.18333, 130.2), (55.33333, 10.33333), (25.95, 80.81667), (44.3, 0.4), (7.05, 12.43333), (7.05, 12.43333), (27.35, 68.53333), (11.65, -2.18333), (27.88333, 68.53333), (41.68333, -112.13333), (12.91667, 11.91667), (35.53333, 136.88333), (37.31667, 13.56667), (9.6, 9.91667), (-7.25, 107.7), (57.35, 37.61667), (50.66667, 16.76667), (24.23333, 89.05), (42.9, 2.25), (43.66667, 45.38333), (49.26667, 18.71667), (46.35, 30.58333), (51.93333, 15.5), (52.86667, 16.63333), (-33.0, -58.61667), (38.73333, -6.01667), (43.76667, 20.23333), (9.91667, 13.98333), (42.9, 24.7), (13.78333, 78.56667), (51.91667, 8.38333), (35.0, 127.5), (35.65, 139.33333), (50.31667, 3.73333), (57.81667, 16.23333), (41.38333, -86.6), (26.8, 82.53333), (28.38333, 75.78333), (32.675, -94.51167), (38.25, -86.16667), (35.2945, 136.70033), (28.95, 0.81667), (51.65, -1.51667), (55.46667, 13.78333), (27.33333, 35.66667), (10.0, -84.1), (59.85, 17.66667), (33.6, 130.43333), (55.9, -4.23333), (64.43333, 21.2), (34.9, -110.18333), (9.06667, 38.41667), (41.8, -91.86667), (21.3, -157.86667), (35.66667, 115.5), (39.35, -100.45), (46.1, 16.33333), (50.3, 8.91667), (61.18333, 22.68333), (52.28333, 7.7), (-20.0, -45.0), (38.0, 35.0), (58.2, 82.93333), (-32.1, 28.33333), (39.75, 46.66667), (39.08333, -94.4), (41.0, 112.0), (-8.93333, 33.8), (-31.18333, -57.95), (-3.4, -44.33333), (-8.41667, 32.43333), (-32.5, 21.9), (26.75, 68.41667), (31.0, 75.0), (18.75, 75.33333), (43.83333, 20.44167), (nan, nan), (31.3, 72.38333), (31.91667, 104.91667), (30.80833, 109.5), (55.7, 24.4), (40.35, -104.9), (45.43333, -0.45), (12.85, 76.8), (38.74028, -7.27), (44.71667, 4.3), (47.35, 21.3), (27.08333, 78.33333), (27.25, 79.96667), (49.86667, 30.83333), (55.43333, 53.25), (12.38333, 78.51667), (45.13333, 21.66667), (-6.83333, 29.5), (17.83333, 73.98333), (26.03333, 81.46667), (36.04167, 139.95667), (14.18333, 75.8), (31.6, 65.78333), (-7.0, 115.5), (32.08333, 76.3), (4.7, 33.63333), (42.45, 73.36667), (47.21667, 81.01667), (-3.5, 35.58333), (12.9, 7.15), (27.8, 67.16667), (31.58333, 71.6), (-35.08333, 139.91667), (35.36667, 136.76667), (39.26333, 31.78), (-7.75, 112.01667), (29.45, -96.0), (48.4, -3.3), (48.11667, -3.08333), (38.98333, 141.61667), (29.53333, 72.3), (25.55, 83.11667), (50.625, 35.075), (26.95, 77.88333), (28.01667, 75.81667), (56.75, 75.33333), (25.1, 81.53333), (16.0, 36.0), (54.4, 10.15), (36.85, 138.38333), (55.0, 34.0), (43.58333, -89.6), (54.66667, -7.66667), (11.63333, 24.68333), (30.75, -95.95), (48.16667, 22.30833), (51.6, 10.8), (48.9, 22.4), (35.73333, 139.75), (42.51667, 26.16667), (49.32694, 7.46472), (54.03333, 40.9), (54.33333, 56.08333), (56.8, 77.0), (47.83333, 30.76667), (51.15, 31.7), (30.73111, 66.80222), (50.75, 33.5), (41.11667, 45.0), (55.78333, 61.36667), (37.05, 138.38333), (29.68333, 78.38333), (10.83333, 76.03333), (55.2, 75.33333), (32.03333, 130.63333), (47.08333, 1.75), (20.66667, -101.28333), (-37.33333, -61.53333), (44.28333, 5.58333), (26.78333, 82.71667), (48.76667, 0.63333), (21.86667, 76.03333), (24.45, 78.56667), (47.7, 1.06667), (43.75, 5.11667), (58.85, 16.73333), (47.75, 16.23333), (51.9, -1.11667), (52.45, 51.56667), (47.16667, 0.43333), (48.53333, -0.86667), (35.88333, -99.33333), (-25.66667, 28.36667), (34.58333, -87.5), (52.26667, 32.85), (48.35, 3.25), (50.36667, 4.73333), (56.65, 15.86667), (52.56667, -8.78333), (52.75, 12.9), (50.2, 14.85), (37.91667, -92.08333), (56.0, 26.43333), (29.53333, 71.8), (38.0, -0.83333), (52.0, 19.91667), (24.95, 75.15), (47.85, 0.48333), (32.03333, -84.76667), (56.21667, 13.03333), (61.2, 27.7), (46.21667, 5.0), (-7.21667, 29.43333), (19.0, 97.0), (-5.2, -36.66667), (-28.83333, 31.95), (25.91667, 86.36667), (-7.75, 111.53333), (40.41667, -3.71667), (-26.16667, -49.93333), (37.86667, 27.51667), (32.21667, -104.0), (-3.13333, 33.51667), (-28.93333, -63.23333), (-29.45, 26.76667), (45.21667, 62.08333), (23.05, 86.7), (20.96667, 76.1), (-17.65, 31.6), (45.81667, 44.63333), (34.23333, 72.08333), (nan, nan), (42.71667, -99.38333), (4.66667, 29.25), (41.9, -91.6), (61.5, 30.5), (44.5, 0.15), (45.36667, 1.86667), (48.13333, 12.61667), (48.18333, 13.13333), (-20.0, 57.0), (24.68333, -101.68333), (-1.21667, 30.0), (-27.25, -67.5), (29.01667, 77.8), (-6.23333, 106.88333), (53.18333, 13.15), (46.81867, 7.21817), (55.05, 12.06667), (0.0, 37.66667), (25.48333, 81.98333), (38.18333, 15.56667), (50.58333, 11.1), (45.76667, 3.25), (46.5, 25.73333), (25.9, 83.61667), (54.56667, -1.16667), (48.06667, 30.96667), (46.23333, 17.53333), (46.18333, 16.1), (-26.45, 120.36667), (35.4, -92.05), (35.07833, 136.93333), (37.28333, 14.7), (32.33333, 120.66667), (47.7, 16.6), (25.68333, 83.25), (56.66667, 23.0), (61.73333, 5.93333), (46.8, 24.03333), (38.5, -101.1), (-39.63333, 174.4), (38.11667, -1.16667), (-31.25, 26.46667), (35.25, -80.5), (38.01667, -8.25), (43.26667, 13.35), (43.39056, 1.9625), (47.63333, 1.58333), (-15.96667, 27.35), (35.41667, -79.38333), (52.45, -8.33333), (-40.975, 145.6), (28.78333, 78.83333), (44.6, 5.13333), (26.83333, 77.33333), (45.2, 8.5), (-29.8, 141.7), (44.08333, 6.86667), (-11.5, 33.5), (12.63333, 77.01667), (9.33333, 80.83333), (24.5, 90.21667), (-36.61667, 145.2), (36.6, -88.1), (26.13333, 85.53333), (23.05, 72.63333), (12.0, 1.0), (38.12167, 140.06167), (26.98333, 78.21667), (49.16667, 19.5), (31.31667, 30.35), (13.73333, 100.08333), (12.28333, 79.2), (35.66667, 103.5), (38.41667, -77.16667), (19.25, 77.0), (-34.05, 150.68889), (42.51667, 12.51667), (-21.73333, 165.9), (21.25, 83.66667), (18.68333, 83.48333), (56.5, 21.5), (40.0, -81.76667), (-7.45, 111.41667), (13.85, -4.38333), (49.03333, -1.43333), (nan, nan), (nan, nan), (52.45, 78.63333), (56.11667, 37.33333), (34.2, 131.56667), (-28.56667, 30.7), (44.08333, -69.48333), (33.725, 130.75), (-32.36667, -59.83333), (36.21667, -92.26667), (39.68333, -99.86667), (54.81667, 46.0), (58.55, 31.33333), (56.0, 22.0), (42.91667, 102.46667), (41.63333, 0.75), (43.33333, 141.86667), (21.20833, 94.91667), (47.55, 22.025), (57.78333, 55.26667), (52.28333, 8.05), (58.5, 23.0), (47.88333, 22.03333), (33.28333, 130.2), (46.06667, 23.58333), (6.75, 8.5), (38.18333, -5.4), (36.18333, 139.21667), (35.08333, 135.2), (50.83333, 25.5), (52.95, 8.16667), (39.0, -0.03333), (38.71667, -7.06667), (39.56667, -2.1), (43.88333, 1.38333), (47.11667, 6.15), (48.5, 8.0), (42.13333, 12.93333), (58.88333, 9.4), (38.4, 140.35), (38.6, -95.21667), (-18.0, 16.0), (43.4, -5.86667), (51.33333, 28.83333), (21.05, -99.3), (55.66667, 25.0), (17.74333, 120.45583), (32.31667, -89.71667), (43.48333, 118.61667), (39.8, -91.5), (21.3, -157.78333), (15.08333, 120.7), (8.06667, 124.28333), (36.06667, -90.5), (-6.23333, -40.7), (-19.13333, -51.66667), (9.23333, 78.35), (26.2, 85.4), (36.21667, -103.4), (20.93694, 82.05), (-19.53333, -48.56667), (38.13333, 14.96667), (23.15, 91.18333), (43.46667, 25.51667), (52.3, 77.03333), (48.53333, 35.98333), (52.03333, 43.0), (56.13333, -117.93333), (51.66667, 9.25), (30.125, -103.11667), (-10.66667, 35.5), (23.325, 91.0), (56.4, -3.43333), (56.63333, 39.43333), (55.5, 66.08333), (35.3, -86.63333), (53.53333, -7.33333), (40.0, -99.25), (11.25, 108.58333), (12.0, 105.48333), (15.71667, 108.1), (44.24417, 11.50222), (41.36667, -6.23333), (58.66667, 25.73333), (-32.86667, 18.71667), (25.8, 88.45), (29.58333, 76.0), (31.95, -83.51667), (30.7, -96.11667), (50.53333, 14.11667), (11.58333, 104.91667), (50.93333, 12.13333), (26.71667, 82.66667), (66.34833, 14.015), (53.03639, -4.31944), (38.5, -8.0), (31.41667, 118.5), (48.3025, 13.94083), (49.66667, 14.03333), (39.11667, -83.85), (23.36667, 75.18333), (52.76667, 21.26667), (13.33333, 78.95), (-29.03333, -53.05), (-30.11667, 28.7), (17.76667, 95.18333), (39.0, -0.66667), (46.6, 0.25), (-26.66667, -65.45), (52.98333, 37.03333), (26.45, 82.9), (24.16667, 87.76667), (51.88333, 6.93333), (23.98333, 87.08333), (19.86667, -100.81667), (25.38333, 72.01667), (38.2, 115.7), (26.66667, 50.15), (43.5, 26.53333), (52.2, 17.98333), (42.475, -5.33333), (-6.73333, 111.36667), (44.76667, 11.28333), (-32.75, -65.28333), (38.66667, 116.13333), (48.6, 45.66667), (51.33333, -118.95), (28.2, 76.66667), (35.03333, -83.03333), (-44.11667, -66.15), (46.88333, -102.31667), (37.46667, -77.5), (-26.1, -49.8), (45.48333, 9.51667), (41.08333, -86.28333), (-23.38333, 150.51667), (42.3, 0.55), (50.35, 10.8), (44.51667, -83.95), (52.76667, -2.51667), (0.26667, 36.53333), (-10.26667, 38.76667), (51.13333, 34.5), (27.43333, 82.08333), (51.53333, 14.88333), (43.73333, 1.38333), (45.3, 0.23333), (35.66667, 136.3), (46.05, 4.63333), (25.66667, 74.86667), (-31.01667, -71.4), (19.76667, -100.65), (-29.2, -51.86667), (24.16667, -99.33333), (-33.9, -61.7), (-20.81, -49.38056), (52.55, 46.55), (34.71667, 137.78333), (43.15, -0.85), (47.21667, 29.86667), (49.23333, 17.56667), (53.35, 15.05), (42.86083, -73.95028), (48.11667, 10.46667), (44.36667, -69.2), (38.3, 27.13333), (26.75, 84.78333), (-7.23333, 107.33333), (22.83333, 4.98333), (22.25, 79.0), (41.71667, -0.05), (21.68389, 79.50083), (41.05, 23.56667), (-8.38333, -36.76667), (-19.46667, -44.21667), (37.41667, -6.0), (50.61667, 36.6), (23.1, 87.3), (37.83333, -76.7), (44.05, -80.16667), (24.55, 84.83333), (25.85, 87.5775), (33.71667, 74.83333), (24.33333, 90.16667), (43.11667, 11.6), (46.16, 134.65333), (44.11667, 27.26667), (49.98333, 7.53333), (30.9, 32.48333), (26.21667, 69.55), (39.3, 9.2), (42.58333, -103.66667), (20.91667, 82.58333), (59.73333, 10.86667), (45.68333, 15.6), (55.0, 35.0), (27.13333, 84.06667), (43.66667, 21.86667), (47.36667, 1.73333), (35.16667, 135.33333), (44.41667, 23.5), (1.7, 33.63333), (44.75, 0.05), (46.95, -1.5), (51.05, 3.75), (48.01667, -1.15), (38.7, -90.23333), (-32.01667, 27.41667), (38.16667, -76.38333), (48.45, 3.93333), (61.65, 27.2), (43.43333, 2.95), (59.93333, 14.95), (49.28333, 15.56667), (45.05, 41.98333), (50.76667, 3.0), (52.53333, 9.05), (56.58333, -3.25), (50.38333, -3.95), (36.48333, -90.66667), (50.53806, 16.26333), (25.93333, 84.28333), (44.86667, 133.16667), (26.71667, 84.21667), (33.18836, -86.2945), (49.4, 14.65), (36.18333, 5.41667), (35.38333, 134.9), (35.43333, 136.23333), (45.4, 122.9), (32.95, 10.41667), (19.38333, 43.73333), (35.13333, 44.45), (46.71667, 23.5), (-25.73333, 142.95), (58.03333, 26.95), (33.4, 70.6), (49.6, 17.11667), (38.2, -89.68333), (54.5, 35.2), (13.63333, 79.41667), (-7.08333, 111.53333), (-6.66667, 106.58333), (47.85, 34.76667)]\n"
     ]
    }
   ],
   "source": [
    "flag=[]\n",
    "for i in data.year:\n",
    "    if int(i[:4]) < 1970:\n",
    "        flag.append(True)\n",
    "    else:\n",
    "        flag.append(False)\n",
    "\n",
    "print('\\n',len(data.geolocation[flag]))        \n",
    "print(list(zip(data.reclat[flag],data.reclong[flag])),end='\\n')\n"
   ]
  },
  {
   "cell_type": "code",
   "execution_count": 88,
   "id": "d7a2a7b6",
   "metadata": {},
   "outputs": [
    {
     "name": "stderr",
     "output_type": "stream",
     "text": [
      "C:\\Users\\HP\\anaconda3\\lib\\site-packages\\seaborn\\_decorators.py:36: FutureWarning: Pass the following variables as keyword args: x, y. From version 0.12, the only valid positional argument will be `data`, and passing other arguments without an explicit keyword will result in an error or misinterpretation.\n",
      "  warnings.warn(\n"
     ]
    },
    {
     "data": {
      "text/plain": [
       "<AxesSubplot:xlabel='reclat', ylabel='reclong'>"
      ]
     },
     "execution_count": 88,
     "metadata": {},
     "output_type": "execute_result"
    },
    {
     "data": {
      "image/png": "[encoded data removed]",
      "text/plain": [
       "<Figure size 640x480 with 1 Axes>"
      ]
     },
     "metadata": {},
     "output_type": "display_data"
    }
   ],
   "source": [
    "sns.scatterplot(data.reclat[flag],data.reclong[flag])"
   ]
  },
  {
   "cell_type": "markdown",
   "id": "d3c57090",
   "metadata": {},
   "source": [
    "#### meteorites fall is concentrated more between latitude 20 to 60"
   ]
  },
  {
   "cell_type": "code",
   "execution_count": null,
   "id": "d7a68a23",
   "metadata": {},
   "outputs": [],
   "source": []
  },
  {
   "cell_type": "markdown",
   "id": "76fe304f",
   "metadata": {},
   "source": [
    "## Assuming that the mass of the earth meteorites was in kg, get all those whose mass was more than 10000kg"
   ]
  },
  {
   "cell_type": "code",
   "execution_count": 96,
   "id": "9b892e0b",
   "metadata": {},
   "outputs": [
    {
     "name": "stdout",
     "output_type": "stream",
     "text": [
      "\n",
      " 243\n",
      "['Abee', 'Agen', 'Aïr', 'Akyumak', 'Alfianello', 'Allegan', 'Allende', 'Andura', 'Appley Bridge', 'Aumale', 'Ausson', 'Bachmut', 'Bahjoi', 'Ban Rong Du', 'Bandong', 'Bansur', 'Barwell', 'Bassikounou', 'Baszkówka', 'Bath', 'Bath Furnace', 'Beardsley', 'Beaver Creek', 'Benguerir', \"Beni M'hira\", 'Bensour', 'Béréba', 'Bilanga', 'Bjurböle', 'Boguslavka', 'Braunau', 'Bruderheim', 'Bur-Gheluai', 'Bursa', 'Butsura', 'Buzzard Coulee', 'Cabezo de Mayo', 'Cabin Creek', 'Campos Sales', 'Cangas de Onis', 'Castrovillari', 'Chajari', 'Chantonnay', 'Charsonville', 'Charwallas', 'Château-Renard', 'Chelyabinsk', 'Chergach ', 'Colby (Wisconsin)', 'Conquista', 'Cumberland Falls', 'Dahmani', 'Demina', 'Dergaon', 'Desuri', 'Devgaon', 'Dhajala', 'Dhurmsala', 'Djati-Pengilon', 'Dong Ujimqin Qi', 'Dresden (Ontario)', 'Durala', 'El Paso de Aguila', 'Elbogen', 'Elenovka', 'Ensisheim', 'Ergheo', 'Estherville', 'Farmington', 'Farmville', 'Fermo', 'Fisher', 'Forest City', 'Forest Vale', 'Forsyth', 'Fuhe', 'Fukutomi', 'Gifu', 'Girgenti', 'Glasatovo', 'Gross-Divina', 'Gualeguaychú', 'Guareña', 'Gujba', 'Gursum', 'Hatford', 'Hessle', 'Holbrook', 'Homestead', 'Hraschina', 'Hvittis', 'Indarch', 'Jackalsfontein', 'Jartai', 'Jelica', 'Jianshi', 'Jilin', 'Johnstown', 'Juancheng', 'Jumapalo', 'Juromenha', 'Juvinas', 'Kabo', 'Kainsaz', 'Kapoeta', 'Karkh', 'Karoonda', 'Kasauli', 'Kayakent', 'Kernouve', 'Kesen', 'Khairpur', 'Kidairat', 'Kilabo', 'Knyahinya', 'Kokubunji', 'Krähenberg', 'Krymka', 'Kunashak', 'Kunya-Urgench', 'Kuttippuram', 'Kyushu', 'La Criolla', \"L'Aigle\", 'Lancé', 'Laochenzhen', 'Leedey', 'Limerick', 'Lissa', 'Lohawat', 'Lost City', 'Łowicz', 'Lundsgård', 'Luponnas', 'Machinga', 'Mahadevpur', 'Mangwendi', 'Marion (Iowa)', 'Marjalahti', 'Mauerkirchen', 'Mbale', 'Meester-Cornelis', 'Menow', 'Merua', 'Mezö-Madaras', 'Millbillillie', 'Miller (Arkansas)', 'Mocs', 'Modoc (1905)', 'Molina', 'Montferré', 'Mount Browne', 'Mount Tazerzait', 'Mount Vaisi', 'Murchison', 'Murray', 'Nakhon Pathom', 'Nan Yang Pao', 'Naoki', 'Nerft', 'New Concord', 'New Halfa', 'New Orleans', \"N'Goureyma\", 'Ningbo', \"N'Kandhla\", 'Norton County', 'Nuevo Mercurio', 'Ochansk', 'Ogi', 'Ohaba', 'Okniny', 'Oldenburg (1930)', 'Olivenza', 'Olmedilla de Alarcón', 'Omolon', 'Orgueil', 'Oum Dreyga', 'Ourique', 'Palinshih', 'Pampanga', 'Paragould', 'Paranaiba', 'Park Forest', 'Parnallee', 'Patwar', 'Pavlograd', 'Peace River', 'Peekskill', 'Peña Blanca Spring', 'Perpeti', 'Pervomaisky', 'Phillips County (stone)', 'Phuoc-Binh', 'Pillistfer', 'Piplia Kalan', 'Portales Valley', 'Pultusk', 'Putinga', 'Quesa', 'Quija', 'Raghunathpura', 'Rahimyar Khan', 'Rasgrad', 'Reliegos', 'Uzcudun', 'Richardton', 'Rose City', 'Ryechki', 'Saint-Sauveur', 'Saint-Séverin', 'Saratov', 'Seoni', 'Sevrukovo', 'Shelburne', 'Sikhote-Alin', 'Sivas', 'Soko-Banja', 'Sone', 'Songyuan', \"St. Mark's\", 'St. Michel', 'Ställdalen', 'Stannern', 'Sterlitamak', 'Strathmore', 'Stretchleigh', 'St-Robert', 'Suizhou', 'Sulagiri', 'Tambakwatu', 'Tamdakht', 'Tatahouine', 'Tauti', 'Tenham', 'Tennasilm', 'Thika', 'Thuathe', 'Tieschitz', 'Tilden', 'Timochin', 'Tjabe', 'Tjerebon'],"
     ]
    }
   ],
   "source": [
    "# data.name[data.mass>10000]\n",
    "print('\\n',len(data.name[data.mass>10000]))\n",
    "print(list(data.name[data.mass>10000]),end=',')"
   ]
  },
  {
   "cell_type": "code",
   "execution_count": 112,
   "id": "8ac8cdca",
   "metadata": {
    "scrolled": true
   },
   "outputs": [
    {
     "data": {
      "text/plain": [
       "<matplotlib.collections.PathCollection at 0x12a4fba5850>"
      ]
     },
     "execution_count": 112,
     "metadata": {},
     "output_type": "execute_result"
    },
    {
     "data": {
      "image/png": "[encoded data removed]",
      "text/plain": [
       "<Figure size 400x300 with 1 Axes>"
      ]
     },
     "metadata": {},
     "output_type": "display_data"
    }
   ],
   "source": [
    "year=[]\n",
    "for i in data.year[data.mass>10000]:\n",
    "    year.append(int(i[:4]))\n",
    "plt.figure(figsize=(4,3))\n",
    "plt.scatter(year,data.mass[data.mass>10000])"
   ]
  },
  {
   "cell_type": "markdown",
   "id": "fd4c211e",
   "metadata": {},
   "source": [
    "#### there are 243 meteorites having mass greater than 10000 much of data appears to be concentrated between 1800 and 2000 which is understandable due to technological advancement it is easier to detect meteorites."
   ]
  },
  {
   "cell_type": "code",
   "execution_count": null,
   "id": "28934c03",
   "metadata": {},
   "outputs": [],
   "source": []
  }
 ],
 "metadata": {
  "kernelspec": {
   "display_name": "Python 3 (ipykernel)",
   "language": "python",
   "name": "python3"
  },
  "language_info": {
   "codemirror_mode": {
    "name": "ipython",
    "version": 3
   },
   "file_extension": ".py",
   "mimetype": "text/x-python",
   "name": "python",
   "nbconvert_exporter": "python",
   "pygments_lexer": "ipython3",
   "version": "3.9.13"
  }
 },
 "nbformat": 4,
 "nbformat_minor": 5
}
