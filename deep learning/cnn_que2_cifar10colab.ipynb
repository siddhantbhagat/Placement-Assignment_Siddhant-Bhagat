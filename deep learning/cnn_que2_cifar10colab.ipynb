{
  "cells": [
    {
      "cell_type": "markdown",
      "source": [],
      "metadata": {
        "id": "hJcibqaL4ue-"
      },
      "id": "hJcibqaL4ue-"
    },
    {
      "cell_type": "code",
      "execution_count": 2,
      "id": "6b7f72b6",
      "metadata": {
        "id": "6b7f72b6"
      },
      "outputs": [],
      "source": [
        "import torch\n",
        "import torch.nn as nn\n",
        "import torch.nn.functional as F\n",
        "import torch.optim as optim\n",
        "import torchvision\n",
        "import torchvision.transforms as transforms"
      ]
    },
    {
      "cell_type": "code",
      "execution_count": 3,
      "id": "d5bf2936",
      "metadata": {
        "scrolled": true,
        "id": "d5bf2936"
      },
      "outputs": [],
      "source": [
        "# conda install pytorch torchvision torchaudio cpuonly -c pytorch"
      ]
    },
    {
      "cell_type": "code",
      "execution_count": 4,
      "id": "40438529",
      "metadata": {
        "id": "40438529"
      },
      "outputs": [],
      "source": [
        "device = torch.device(\"cuda\" if torch.cuda.is_available() else \"cpu\")"
      ]
    },
    {
      "cell_type": "code",
      "execution_count": 5,
      "id": "c398a72a",
      "metadata": {
        "id": "c398a72a"
      },
      "outputs": [],
      "source": [
        "# lets define the transformation to be applied to CIFAR10, here we are just converting data in tensor format and perform \n",
        "#Normalisation to the dataset but we can also use data augmentation in this step.\n",
        "transform = transforms.Compose([transforms.ToTensor(), transforms.Normalize(mean=(0.5, 0.5, 0.5), std =(0.5, 0.5, 0.5))])\n",
        "\n",
        "# 3 values of mean to 3 channels in the image"
      ]
    },
    {
      "cell_type": "code",
      "execution_count": 6,
      "id": "a3f2a512",
      "metadata": {
        "colab": {
          "base_uri": "https://localhost:8080/"
        },
        "id": "a3f2a512",
        "outputId": "98fc363c-973d-43a6-b6ac-55bb373294ff"
      },
      "outputs": [
        {
          "output_type": "stream",
          "name": "stdout",
          "text": [
            "Downloading https://www.cs.toronto.edu/~kriz/cifar-10-python.tar.gz to ./data/cifar-10-python.tar.gz\n"
          ]
        },
        {
          "output_type": "stream",
          "name": "stderr",
          "text": [
            "100%|██████████| 170498071/170498071 [00:02<00:00, 72840057.63it/s]\n"
          ]
        },
        {
          "output_type": "stream",
          "name": "stdout",
          "text": [
            "Extracting ./data/cifar-10-python.tar.gz to ./data\n",
            "Files already downloaded and verified\n"
          ]
        }
      ],
      "source": [
        "# Load the CIFAR-10 dataset\n",
        "trainset = torchvision.datasets.CIFAR10(root='./data', train=True, download=True, transform=transform)\n",
        "\n",
        "trainloader = torch.utils.data.DataLoader(trainset, batch_size=50, shuffle=True, num_workers=2)\n",
        "\n",
        "testset = torchvision.datasets.CIFAR10(root='./data', train=False, download=True, transform=transform)\n",
        "testloader = torch.utils.data.DataLoader(testset, batch_size=50, shuffle=False, num_workers=2)"
      ]
    },
    {
      "cell_type": "code",
      "execution_count": 7,
      "id": "7e36d9ea",
      "metadata": {
        "scrolled": true,
        "colab": {
          "base_uri": "https://localhost:8080/"
        },
        "id": "7e36d9ea",
        "outputId": "5657bb6c-0347-4e62-aa02-4c91cdb7b73f"
      },
      "outputs": [
        {
          "output_type": "execute_result",
          "data": {
            "text/plain": [
              "torch.Size([3, 32, 32])"
            ]
          },
          "metadata": {},
          "execution_count": 7
        }
      ],
      "source": [
        "trainset[0][0].shape"
      ]
    },
    {
      "cell_type": "code",
      "execution_count": 8,
      "id": "066452bf",
      "metadata": {
        "id": "066452bf"
      },
      "outputs": [],
      "source": [
        "# from prettytable import PrettyTable\n",
        "def count_parameters(model):\n",
        "    table = {\"Modules\": \"Parameters\"}\n",
        "    total_params = 0\n",
        "    for name, parameter in model.named_parameters():\n",
        "        if not parameter.requires_grad: continue\n",
        "        param = parameter.numel()\n",
        "        table[name]=param\n",
        "        total_params+=param\n",
        "    print(table)\n",
        "    print(f\"Total Trainable Params: {total_params}\")\n",
        "    return total_params"
      ]
    },
    {
      "cell_type": "code",
      "execution_count": 9,
      "id": "617941dd",
      "metadata": {
        "colab": {
          "base_uri": "https://localhost:8080/"
        },
        "id": "617941dd",
        "outputId": "c1d62b89-9272-495e-c706-0e21f302a04d"
      },
      "outputs": [
        {
          "output_type": "stream",
          "name": "stdout",
          "text": [
            "{'Modules': 'Parameters', 'conv1.weight': 432, 'conv1.bias': 16, 'conv2.weight': 1728, 'conv2.bias': 12, 'fc1.weight': 7680, 'fc1.bias': 10, 'fc2.weight': 100, 'fc2.bias': 10}\n",
            "Total Trainable Params: 9988\n"
          ]
        },
        {
          "output_type": "execute_result",
          "data": {
            "text/plain": [
              "9988"
            ]
          },
          "metadata": {},
          "execution_count": 9
        }
      ],
      "source": [
        "# Define the first CNN architecture\n",
        "class CNNModel1(nn.Module):\n",
        "    def __init__(self):\n",
        "        super(CNNModel1, self).__init__()\n",
        "        self.conv1 = nn.Conv2d(3, 16, 3, padding=1)\n",
        "        self.pool = nn.MaxPool2d(2, 2)\n",
        "        self.conv2 = nn.Conv2d(16, 12, 3, padding=1)\n",
        "        self.fc1 = nn.Linear(12 * 8 * 8, 10)\n",
        "        self.fc2 = nn.Linear(10, 10)\n",
        "\n",
        "    def forward(self, x):\n",
        "        x = self.pool(F.relu(self.conv1(x)))\n",
        "        x = self.pool(F.relu(self.conv2(x)))\n",
        "        x = x.view(-1, 12 * 8 * 8)\n",
        "        x = F.relu(self.fc1(x))\n",
        "        x = self.fc2(x)\n",
        "        return x\n",
        "    \n",
        "count_parameters(CNNModel1())"
      ]
    },
    {
      "cell_type": "code",
      "execution_count": 10,
      "id": "11da3657",
      "metadata": {
        "colab": {
          "base_uri": "https://localhost:8080/"
        },
        "id": "11da3657",
        "outputId": "ffe16137-ddd4-4600-ce24-620a5bccff5c"
      },
      "outputs": [
        {
          "output_type": "stream",
          "name": "stdout",
          "text": [
            "{'Modules': 'Parameters', 'conv1.weight': 864, 'conv1.bias': 32, 'conv2.weight': 2304, 'conv2.bias': 8, 'fc1.weight': 6144, 'fc1.bias': 12, 'fc2.weight': 120, 'fc2.bias': 10}\n",
            "Total Trainable Params: 9494\n"
          ]
        },
        {
          "output_type": "execute_result",
          "data": {
            "text/plain": [
              "9494"
            ]
          },
          "metadata": {},
          "execution_count": 10
        }
      ],
      "source": [
        "# Define the second CNN architecture\n",
        "class CNNModel2(nn.Module):\n",
        "    def __init__(self):\n",
        "        super().__init__()\n",
        "        self.conv1 = nn.Conv2d(3, 32, 3, padding=1)\n",
        "        self.conv2 = nn.Conv2d(32, 8, 3, padding=1)\n",
        "        self.pool = nn.MaxPool2d(2, 2)\n",
        "        self.fc1 = nn.Linear(8* 8*8, 12)\n",
        "        self.fc2 = nn.Linear(12, 10)\n",
        "\n",
        "    def forward(self, x):\n",
        "        x = self.pool(F.relu(self.conv1(x)))\n",
        "        x = self.pool(F.relu(self.conv2(x)))\n",
        "        x = x.view(-1, 8* 8*8)\n",
        "        x = F.relu(self.fc1(x))\n",
        "        x = self.fc2(x)\n",
        "        return x\n",
        "    \n",
        "count_parameters(CNNModel2())"
      ]
    },
    {
      "cell_type": "code",
      "execution_count": 11,
      "id": "2943132a",
      "metadata": {
        "id": "2943132a"
      },
      "outputs": [],
      "source": [
        "# Function to train the model\n",
        "def train_model(model, criterion, optimizer, num_epochs=10):\n",
        "    model.to(device)\n",
        "    best_acc = 0.0\n",
        "\n",
        "    for epoch in range(num_epochs):\n",
        "        model.train()\n",
        "        running_loss = 0.0\n",
        "\n",
        "        for i, (inputs, labels) in enumerate(trainloader, 0):\n",
        "            inputs, labels = inputs.to(device), labels.to(device)\n",
        "\n",
        "            optimizer.zero_grad()\n",
        "\n",
        "            # Forward pass\n",
        "            outputs = model(inputs)\n",
        "            loss = criterion(outputs, labels)\n",
        "\n",
        "            # Backward and optimize\n",
        "            loss.backward()\n",
        "            optimizer.step()\n",
        "\n",
        "            running_loss += loss.item()\n",
        "\n",
        "        # Evaluate on the test set\n",
        "        model.eval()\n",
        "        correct = 0\n",
        "        total = 0\n",
        "\n",
        "        with torch.no_grad():\n",
        "            for inputs, labels in testloader:\n",
        "                inputs, labels = inputs.to(device), labels.to(device)\n",
        "                outputs = model(inputs)\n",
        "                _, predicted = torch.max(outputs.data, 1)\n",
        "                total += labels.size(0)\n",
        "                correct += (predicted == labels).sum().item()\n",
        "\n",
        "        accuracy = 100.0 * correct / total\n",
        "\n",
        "        # Save the model with the best accuracy on the test set\n",
        "        if accuracy > best_acc:\n",
        "            best_acc = accuracy\n",
        "            torch.save(model.state_dict(), 'best_model.pth')\n",
        "\n",
        "        print(f\"Epoch {epoch + 1}/{num_epochs}, Loss: {running_loss:.3f}, Test Accuracy: {accuracy:.2f}%\")\n",
        "\n",
        "    print(\"Training complete!\")\n",
        "    print(f\"Best Test Accuracy: {best_acc:.2f}%\")"
      ]
    },
    {
      "cell_type": "code",
      "execution_count": 12,
      "id": "52534fd7",
      "metadata": {
        "colab": {
          "base_uri": "https://localhost:8080/"
        },
        "id": "52534fd7",
        "outputId": "d1a8c9be-2987-464f-9ad3-b89a3d9cb921"
      },
      "outputs": [
        {
          "output_type": "stream",
          "name": "stdout",
          "text": [
            "Epoch 1/10, Loss: 1743.468, Test Accuracy: 45.32%\n",
            "Epoch 2/10, Loss: 1430.194, Test Accuracy: 51.03%\n",
            "Epoch 3/10, Loss: 1308.377, Test Accuracy: 54.29%\n",
            "Epoch 4/10, Loss: 1241.921, Test Accuracy: 55.63%\n",
            "Epoch 5/10, Loss: 1189.189, Test Accuracy: 57.30%\n",
            "Epoch 6/10, Loss: 1149.491, Test Accuracy: 58.27%\n",
            "Epoch 7/10, Loss: 1122.554, Test Accuracy: 59.73%\n",
            "Epoch 8/10, Loss: 1099.631, Test Accuracy: 60.21%\n",
            "Epoch 9/10, Loss: 1083.133, Test Accuracy: 59.77%\n",
            "Epoch 10/10, Loss: 1064.673, Test Accuracy: 60.51%\n",
            "Training complete!\n",
            "Best Test Accuracy: 60.51%\n"
          ]
        }
      ],
      "source": [
        "model1 = CNNModel1()\n",
        "criterion = nn.CrossEntropyLoss()\n",
        "optimizer1 = optim.Adam(model1.parameters(), lr=0.001)\n",
        "train_model(model1, criterion, optimizer1, num_epochs=10)"
      ]
    },
    {
      "cell_type": "code",
      "execution_count": 13,
      "id": "dbc1da8a",
      "metadata": {
        "colab": {
          "base_uri": "https://localhost:8080/"
        },
        "id": "dbc1da8a",
        "outputId": "86d9e18e-6d18-46b0-c1ab-aa21785bedfc"
      },
      "outputs": [
        {
          "output_type": "stream",
          "name": "stdout",
          "text": [
            "Epoch 1/10, Loss: 1666.123, Test Accuracy: 46.79%\n",
            "Epoch 2/10, Loss: 1366.922, Test Accuracy: 52.24%\n",
            "Epoch 3/10, Loss: 1261.156, Test Accuracy: 55.52%\n",
            "Epoch 4/10, Loss: 1196.541, Test Accuracy: 57.69%\n",
            "Epoch 5/10, Loss: 1151.331, Test Accuracy: 58.30%\n",
            "Epoch 6/10, Loss: 1115.074, Test Accuracy: 60.23%\n",
            "Epoch 7/10, Loss: 1088.834, Test Accuracy: 59.61%\n",
            "Epoch 8/10, Loss: 1066.278, Test Accuracy: 61.26%\n",
            "Epoch 9/10, Loss: 1048.827, Test Accuracy: 61.20%\n",
            "Epoch 10/10, Loss: 1034.287, Test Accuracy: 61.86%\n",
            "Training complete!\n",
            "Best Test Accuracy: 61.86%\n"
          ]
        }
      ],
      "source": [
        "model2 = CNNModel2()\n",
        "\n",
        "criterion = nn.CrossEntropyLoss()\n",
        "optimizer2 = optim.Adam(model2.parameters(), lr=0.001)\n",
        "train_model(model2, criterion, optimizer2, num_epochs=10)"
      ]
    },
    {
      "cell_type": "code",
      "execution_count": 14,
      "id": "39e9e112",
      "metadata": {
        "colab": {
          "base_uri": "https://localhost:8080/"
        },
        "id": "39e9e112",
        "outputId": "08e0bbcb-b854-4657-ec6e-fcf7dca2b671"
      },
      "outputs": [
        {
          "output_type": "stream",
          "name": "stdout",
          "text": [
            "{'Modules': 'Parameters', 'conv1.weight': 864, 'conv1.bias': 32, 'conv2.weight': 2304, 'conv2.bias': 8, 'fc1.weight': 5120, 'fc1.bias': 10, 'fc2.weight': 100, 'fc2.bias': 10}\n",
            "Total Trainable Params: 8448\n"
          ]
        },
        {
          "output_type": "execute_result",
          "data": {
            "text/plain": [
              "8448"
            ]
          },
          "metadata": {},
          "execution_count": 14
        }
      ],
      "source": [
        "# Define the second CNN architecture\n",
        "class CNNModel3(nn.Module):\n",
        "    def __init__(self):\n",
        "        super().__init__()\n",
        "        self.conv1 = nn.Conv2d(3, 32, 3, padding=1)\n",
        "        self.conv2 = nn.Conv2d(32, 8, 3, padding=1)\n",
        "        self.pool = nn.MaxPool2d(2, 2)\n",
        "        self.fc1 = nn.Linear(8* 8*8, 10)\n",
        "        self.fc2 = nn.Linear(10, 10)\n",
        "\n",
        "    def forward(self, x):\n",
        "        x = self.pool(F.relu(self.conv1(x)))\n",
        "        x = self.pool(F.relu(self.conv2(x)))\n",
        "        x = x.view(-1, 8* 8*8)\n",
        "        x = F.relu(self.fc1(x))\n",
        "        x = self.fc2(x)\n",
        "        return x\n",
        "    \n",
        "count_parameters(CNNModel3())\n"
      ]
    },
    {
      "cell_type": "code",
      "execution_count": 15,
      "id": "478fa992",
      "metadata": {
        "colab": {
          "base_uri": "https://localhost:8080/"
        },
        "id": "478fa992",
        "outputId": "46167134-c258-4eb7-dbb3-8d9451749004"
      },
      "outputs": [
        {
          "output_type": "stream",
          "name": "stdout",
          "text": [
            "Epoch 1/10, Loss: 1677.667, Test Accuracy: 47.94%\n",
            "Epoch 2/10, Loss: 1366.206, Test Accuracy: 52.28%\n",
            "Epoch 3/10, Loss: 1288.538, Test Accuracy: 54.64%\n",
            "Epoch 4/10, Loss: 1234.133, Test Accuracy: 56.23%\n",
            "Epoch 5/10, Loss: 1190.492, Test Accuracy: 56.37%\n",
            "Epoch 6/10, Loss: 1149.077, Test Accuracy: 57.99%\n",
            "Epoch 7/10, Loss: 1117.839, Test Accuracy: 59.12%\n",
            "Epoch 8/10, Loss: 1089.676, Test Accuracy: 60.12%\n",
            "Epoch 9/10, Loss: 1066.912, Test Accuracy: 58.55%\n",
            "Epoch 10/10, Loss: 1044.630, Test Accuracy: 61.28%\n",
            "Training complete!\n",
            "Best Test Accuracy: 61.28%\n"
          ]
        }
      ],
      "source": [
        "model3 = CNNModel3()\n",
        "\n",
        "criterion = nn.CrossEntropyLoss()\n",
        "optimizer3 = optim.Adam(model3.parameters(), lr=0.001)\n",
        "train_model(model3, criterion, optimizer3, num_epochs=10)"
      ]
    },
    {
      "cell_type": "code",
      "execution_count": 16,
      "id": "385e7e27",
      "metadata": {
        "colab": {
          "base_uri": "https://localhost:8080/"
        },
        "id": "385e7e27",
        "outputId": "dceba115-032a-452b-d2e5-1317fed7be90"
      },
      "outputs": [
        {
          "output_type": "stream",
          "name": "stdout",
          "text": [
            "{'Modules': 'Parameters', 'conv1.weight': 864, 'conv1.bias': 32, 'conv2.weight': 4320, 'conv2.bias': 15, 'conv3.weight': 945, 'conv3.bias': 7, 'fc1.weight': 3584, 'fc1.bias': 8, 'fc2.weight': 80, 'fc2.bias': 10}\n",
            "Total Trainable Params: 9865\n"
          ]
        },
        {
          "output_type": "execute_result",
          "data": {
            "text/plain": [
              "9865"
            ]
          },
          "metadata": {},
          "execution_count": 16
        }
      ],
      "source": [
        "class CNNModel4(nn.Module):\n",
        "    def __init__(self):\n",
        "        super(CNNModel4, self).__init__()\n",
        "        self.conv1 = nn.Conv2d(3, 32, 3, padding=1)\n",
        "        self.conv2 = nn.Conv2d(32, 15, 3, padding=1)\n",
        "        self.conv3 = nn.Conv2d(15, 7, 3, padding=1)\n",
        "        self.pool = nn.MaxPool2d(2, 2)\n",
        "        self.fc1 = nn.Linear(7* 8*8, 8)\n",
        "        self.fc2 = nn.Linear(8, 10)\n",
        "\n",
        "    def forward(self, x):\n",
        "        x = self.pool(F.relu(self.conv1(x)))\n",
        "        x = self.pool(F.relu(self.conv2(x)))\n",
        "        x = (F.relu(self.conv3(x)))\n",
        "        x = x.view(-1, 7* 8*8)\n",
        "        x = F.relu(self.fc1(x))\n",
        "        x = self.fc2(x)\n",
        "        return x\n",
        "  \n",
        "count_parameters(CNNModel4())"
      ]
    },
    {
      "cell_type": "code",
      "source": [
        "model4 = CNNModel4()\n",
        "\n",
        "criterion = nn.CrossEntropyLoss()\n",
        "optimizer4 = optim.Adam(model4.parameters(), lr=0.001)\n",
        "train_model(model4, criterion, optimizer4, num_epochs=10)"
      ],
      "metadata": {
        "colab": {
          "base_uri": "https://localhost:8080/"
        },
        "id": "uzJMiotTuDoj",
        "outputId": "50001dc5-e01e-43ae-f1d7-c5e3e5836ccb"
      },
      "id": "uzJMiotTuDoj",
      "execution_count": 17,
      "outputs": [
        {
          "output_type": "stream",
          "name": "stdout",
          "text": [
            "Epoch 1/10, Loss: 1692.939, Test Accuracy: 47.26%\n",
            "Epoch 2/10, Loss: 1359.810, Test Accuracy: 53.13%\n",
            "Epoch 3/10, Loss: 1242.680, Test Accuracy: 54.84%\n",
            "Epoch 4/10, Loss: 1170.087, Test Accuracy: 59.63%\n",
            "Epoch 5/10, Loss: 1109.252, Test Accuracy: 61.64%\n",
            "Epoch 6/10, Loss: 1059.987, Test Accuracy: 63.41%\n",
            "Epoch 7/10, Loss: 1024.383, Test Accuracy: 63.05%\n",
            "Epoch 8/10, Loss: 997.458, Test Accuracy: 64.63%\n",
            "Epoch 9/10, Loss: 978.053, Test Accuracy: 64.87%\n",
            "Epoch 10/10, Loss: 954.848, Test Accuracy: 64.92%\n",
            "Training complete!\n",
            "Best Test Accuracy: 64.92%\n"
          ]
        }
      ]
    },
    {
      "cell_type": "code",
      "source": [
        "class CNNModel5(nn.Module):\n",
        "    def __init__(self):\n",
        "        super(CNNModel5, self).__init__()\n",
        "        self.conv1 = nn.Conv2d(3, 64, 3, padding=1)\n",
        "        self.conv2 = nn.Conv2d(64, 8, 3, padding=1)\n",
        "        self.conv3 = nn.Conv2d(8, 4, 3, padding=1)\n",
        "        self.pool = nn.MaxPool2d(2, 2)\n",
        "        self.fc1 = nn.Linear(4*8*8, 8)\n",
        "        self.fc2 = nn.Linear(8, 10)\n",
        "\n",
        "    def forward(self, x):\n",
        "        x = self.pool(F.relu(self.conv1(x)))\n",
        "        x = self.pool(F.relu(self.conv2(x)))\n",
        "        x = (F.relu(self.conv3(x)))\n",
        "        x = x.view(-1, 4* 8*8)\n",
        "        x = F.relu(self.fc1(x))\n",
        "        x = self.fc2(x)\n",
        "        return x\n",
        "  \n",
        "count_parameters(CNNModel5())"
      ],
      "metadata": {
        "colab": {
          "base_uri": "https://localhost:8080/"
        },
        "id": "zqqNJofy8FKY",
        "outputId": "59269ed7-a0b8-435e-e19c-48a4e4d3399c"
      },
      "id": "zqqNJofy8FKY",
      "execution_count": 18,
      "outputs": [
        {
          "output_type": "stream",
          "name": "stdout",
          "text": [
            "{'Modules': 'Parameters', 'conv1.weight': 1728, 'conv1.bias': 64, 'conv2.weight': 4608, 'conv2.bias': 8, 'conv3.weight': 288, 'conv3.bias': 4, 'fc1.weight': 2048, 'fc1.bias': 8, 'fc2.weight': 80, 'fc2.bias': 10}\n",
            "Total Trainable Params: 8846\n"
          ]
        },
        {
          "output_type": "execute_result",
          "data": {
            "text/plain": [
              "8846"
            ]
          },
          "metadata": {},
          "execution_count": 18
        }
      ]
    },
    {
      "cell_type": "code",
      "source": [
        "model5 = CNNModel5()\n",
        "\n",
        "criterion = nn.CrossEntropyLoss()\n",
        "optimizer5 = optim.Adam(model5.parameters(), lr=0.001)\n",
        "train_model(model5, criterion, optimizer5, num_epochs=10)"
      ],
      "metadata": {
        "colab": {
          "base_uri": "https://localhost:8080/"
        },
        "id": "7g_6BvDn8EeW",
        "outputId": "8ec2c0a2-b741-4481-a40a-006e6115db6b"
      },
      "id": "7g_6BvDn8EeW",
      "execution_count": 19,
      "outputs": [
        {
          "output_type": "stream",
          "name": "stdout",
          "text": [
            "Epoch 1/10, Loss: 1913.670, Test Accuracy: 35.20%\n",
            "Epoch 2/10, Loss: 1631.697, Test Accuracy: 40.97%\n",
            "Epoch 3/10, Loss: 1545.082, Test Accuracy: 43.28%\n",
            "Epoch 4/10, Loss: 1482.709, Test Accuracy: 44.78%\n",
            "Epoch 5/10, Loss: 1424.162, Test Accuracy: 47.46%\n",
            "Epoch 6/10, Loss: 1372.698, Test Accuracy: 49.10%\n",
            "Epoch 7/10, Loss: 1334.302, Test Accuracy: 50.93%\n",
            "Epoch 8/10, Loss: 1303.888, Test Accuracy: 50.67%\n",
            "Epoch 9/10, Loss: 1276.991, Test Accuracy: 50.81%\n",
            "Epoch 10/10, Loss: 1255.244, Test Accuracy: 51.92%\n",
            "Training complete!\n",
            "Best Test Accuracy: 51.92%\n"
          ]
        }
      ]
    },
    {
      "cell_type": "code",
      "source": [
        "class CNNModel6(nn.Module):\n",
        "    def __init__(self):\n",
        "        super(CNNModel6, self).__init__()\n",
        "        self.conv1 = nn.Conv2d(3, 64, 3, padding=1)\n",
        "        self.conv2 = nn.Conv2d(64, 8, 3, padding=1)\n",
        "        self.conv3 = nn.Conv2d(8, 4, 3, padding=1)\n",
        "        self.pool = nn.MaxPool2d(2, 2)\n",
        "        self.fc1 = nn.Linear(4*8*8, 12)\n",
        "        self.fc2 = nn.Linear(12, 10)\n",
        "\n",
        "    def forward(self, x):\n",
        "        x = self.pool(F.relu(self.conv1(x)))\n",
        "        x = self.pool(F.relu(self.conv2(x)))\n",
        "        x = (F.relu(self.conv3(x)))\n",
        "        x = x.view(-1, 4* 8*8)\n",
        "        x = F.relu(self.fc1(x))\n",
        "        x = self.fc2(x)\n",
        "        return x\n",
        "  \n",
        "count_parameters(CNNModel6())"
      ],
      "metadata": {
        "colab": {
          "base_uri": "https://localhost:8080/"
        },
        "id": "n9CNXzDb_TRc",
        "outputId": "eec183e2-ade5-4c84-c95b-4df942dd8005"
      },
      "id": "n9CNXzDb_TRc",
      "execution_count": 20,
      "outputs": [
        {
          "output_type": "stream",
          "name": "stdout",
          "text": [
            "{'Modules': 'Parameters', 'conv1.weight': 1728, 'conv1.bias': 64, 'conv2.weight': 4608, 'conv2.bias': 8, 'conv3.weight': 288, 'conv3.bias': 4, 'fc1.weight': 3072, 'fc1.bias': 12, 'fc2.weight': 120, 'fc2.bias': 10}\n",
            "Total Trainable Params: 9914\n"
          ]
        },
        {
          "output_type": "execute_result",
          "data": {
            "text/plain": [
              "9914"
            ]
          },
          "metadata": {},
          "execution_count": 20
        }
      ]
    },
    {
      "cell_type": "code",
      "source": [
        "model6 = CNNModel6()\n",
        "\n",
        "criterion = nn.CrossEntropyLoss()\n",
        "optimizer6 = optim.Adam(model6.parameters(), lr=0.001)\n",
        "train_model(model6, criterion, optimizer6, num_epochs=10)"
      ],
      "metadata": {
        "colab": {
          "base_uri": "https://localhost:8080/"
        },
        "id": "R805dnpk_S02",
        "outputId": "f6d1a708-ac6c-4810-8c16-feb117c1a68a"
      },
      "id": "R805dnpk_S02",
      "execution_count": 22,
      "outputs": [
        {
          "output_type": "stream",
          "name": "stdout",
          "text": [
            "Epoch 1/10, Loss: 1721.178, Test Accuracy: 46.43%\n",
            "Epoch 2/10, Loss: 1410.973, Test Accuracy: 50.87%\n",
            "Epoch 3/10, Loss: 1324.119, Test Accuracy: 53.26%\n",
            "Epoch 4/10, Loss: 1269.351, Test Accuracy: 54.95%\n",
            "Epoch 5/10, Loss: 1226.404, Test Accuracy: 57.24%\n",
            "Epoch 6/10, Loss: 1199.050, Test Accuracy: 57.55%\n",
            "Epoch 7/10, Loss: 1172.926, Test Accuracy: 58.02%\n",
            "Epoch 8/10, Loss: 1147.696, Test Accuracy: 58.36%\n",
            "Epoch 9/10, Loss: 1129.711, Test Accuracy: 59.58%\n",
            "Epoch 10/10, Loss: 1107.247, Test Accuracy: 59.76%\n",
            "Training complete!\n",
            "Best Test Accuracy: 59.76%\n"
          ]
        }
      ]
    },
    {
      "cell_type": "code",
      "source": [
        "class CNNModel7(nn.Module):\n",
        "    def __init__(self):\n",
        "        super(CNNModel7, self).__init__()\n",
        "        self.conv1 = nn.Conv2d(3, 32, 3, padding=1)\n",
        "        self.conv2 = nn.Conv2d(32, 16, 3, padding=1)\n",
        "        self.conv3 = nn.Conv2d(16, 8, 3, padding=1)\n",
        "        self.pool = nn.MaxPool2d(2, 2)\n",
        "        self.fc1 = nn.Linear(8*4*4, 16)\n",
        "        self.fc2 = nn.Linear(16, 10)\n",
        "\n",
        "    def forward(self, x):\n",
        "        x = self.pool(F.relu(self.conv1(x)))\n",
        "        x = self.pool(F.relu(self.conv2(x)))\n",
        "        x = self.pool(F.relu(self.conv3(x)))\n",
        "        x = x.view(-1, 8* 4*4)\n",
        "        x = F.relu(self.fc1(x))\n",
        "        x = self.fc2(x)\n",
        "        return x\n",
        "count_parameters(CNNModel7())"
      ],
      "metadata": {
        "colab": {
          "base_uri": "https://localhost:8080/"
        },
        "id": "diq8sJyB_SxG",
        "outputId": "3961020e-abd2-4754-a6ff-c27c89449926"
      },
      "id": "diq8sJyB_SxG",
      "execution_count": 29,
      "outputs": [
        {
          "output_type": "stream",
          "name": "stdout",
          "text": [
            "{'Modules': 'Parameters', 'conv1.weight': 864, 'conv1.bias': 32, 'conv2.weight': 4608, 'conv2.bias': 16, 'conv3.weight': 1152, 'conv3.bias': 8, 'fc1.weight': 2048, 'fc1.bias': 16, 'fc2.weight': 160, 'fc2.bias': 10}\n",
            "Total Trainable Params: 8914\n"
          ]
        },
        {
          "output_type": "execute_result",
          "data": {
            "text/plain": [
              "8914"
            ]
          },
          "metadata": {},
          "execution_count": 29
        }
      ]
    },
    {
      "cell_type": "code",
      "source": [
        "model7 = CNNModel7()\n",
        "\n",
        "criterion = nn.CrossEntropyLoss()\n",
        "optimizer7 = optim.Adam(model7.parameters(), lr=0.001)\n",
        "train_model(model7, criterion, optimizer7, num_epochs=10)"
      ],
      "metadata": {
        "colab": {
          "base_uri": "https://localhost:8080/"
        },
        "id": "EYUgonTB_StT",
        "outputId": "c62ee89d-543c-47e7-b8e8-c06979e7c94a"
      },
      "id": "EYUgonTB_StT",
      "execution_count": 30,
      "outputs": [
        {
          "output_type": "stream",
          "name": "stdout",
          "text": [
            "Epoch 1/10, Loss: 1731.568, Test Accuracy: 46.63%\n",
            "Epoch 2/10, Loss: 1401.284, Test Accuracy: 51.87%\n",
            "Epoch 3/10, Loss: 1297.304, Test Accuracy: 55.90%\n",
            "Epoch 4/10, Loss: 1214.287, Test Accuracy: 57.99%\n",
            "Epoch 5/10, Loss: 1152.906, Test Accuracy: 59.80%\n",
            "Epoch 6/10, Loss: 1107.679, Test Accuracy: 61.57%\n",
            "Epoch 7/10, Loss: 1077.494, Test Accuracy: 62.17%\n",
            "Epoch 8/10, Loss: 1045.756, Test Accuracy: 62.39%\n",
            "Epoch 9/10, Loss: 1024.427, Test Accuracy: 63.82%\n",
            "Epoch 10/10, Loss: 1005.008, Test Accuracy: 64.96%\n",
            "Training complete!\n",
            "Best Test Accuracy: 64.96%\n"
          ]
        }
      ]
    },
    {
      "cell_type": "code",
      "source": [
        "import pandas as pd\n",
        "\n",
        "model=['model1','model2','model3','model4','model5','model6','model7']\n",
        "params=[9988,9494,8448,9865,8846,9914,8914]\n",
        "accuracy=[60.51,61.68,61.28,64.92,51.32,59.76,64.96]\n",
        "\n",
        "df=pd.DataFrame({'Model':model,'Params':params,'accuracy':accuracy})\n",
        "df"
      ],
      "metadata": {
        "colab": {
          "base_uri": "https://localhost:8080/",
          "height": 269
        },
        "id": "REbWxHp9qv1V",
        "outputId": "38e894f0-cb4d-421f-da2c-22406a257f76"
      },
      "id": "REbWxHp9qv1V",
      "execution_count": 32,
      "outputs": [
        {
          "output_type": "execute_result",
          "data": {
            "text/plain": [
              "    Model  Params  accuracy\n",
              "0  model1    9988     60.51\n",
              "1  model2    9494     61.68\n",
              "2  model3    8448     61.28\n",
              "3  model4    9865     64.92\n",
              "4  model5    8846     51.32\n",
              "5  model6    9914     59.76\n",
              "6  model7    8914     64.96"
            ],
            "text/html": [
              "\n",
              "  <div id=\"df-0acae68d-385c-49c6-af9b-9b9a17291abd\">\n",
              "    <div class=\"colab-df-container\">\n",
              "      <div>\n",
              "<style scoped>\n",
              "    .dataframe tbody tr th:only-of-type {\n",
              "        vertical-align: middle;\n",
              "    }\n",
              "\n",
              "    .dataframe tbody tr th {\n",
              "        vertical-align: top;\n",
              "    }\n",
              "\n",
              "    .dataframe thead th {\n",
              "        text-align: right;\n",
              "    }\n",
              "</style>\n",
              "<table border=\"1\" class=\"dataframe\">\n",
              "  <thead>\n",
              "    <tr style=\"text-align: right;\">\n",
              "      <th></th>\n",
              "      <th>Model</th>\n",
              "      <th>Params</th>\n",
              "      <th>accuracy</th>\n",
              "    </tr>\n",
              "  </thead>\n",
              "  <tbody>\n",
              "    <tr>\n",
              "      <th>0</th>\n",
              "      <td>model1</td>\n",
              "      <td>9988</td>\n",
              "      <td>60.51</td>\n",
              "    </tr>\n",
              "    <tr>\n",
              "      <th>1</th>\n",
              "      <td>model2</td>\n",
              "      <td>9494</td>\n",
              "      <td>61.68</td>\n",
              "    </tr>\n",
              "    <tr>\n",
              "      <th>2</th>\n",
              "      <td>model3</td>\n",
              "      <td>8448</td>\n",
              "      <td>61.28</td>\n",
              "    </tr>\n",
              "    <tr>\n",
              "      <th>3</th>\n",
              "      <td>model4</td>\n",
              "      <td>9865</td>\n",
              "      <td>64.92</td>\n",
              "    </tr>\n",
              "    <tr>\n",
              "      <th>4</th>\n",
              "      <td>model5</td>\n",
              "      <td>8846</td>\n",
              "      <td>51.32</td>\n",
              "    </tr>\n",
              "    <tr>\n",
              "      <th>5</th>\n",
              "      <td>model6</td>\n",
              "      <td>9914</td>\n",
              "      <td>59.76</td>\n",
              "    </tr>\n",
              "    <tr>\n",
              "      <th>6</th>\n",
              "      <td>model7</td>\n",
              "      <td>8914</td>\n",
              "      <td>64.96</td>\n",
              "    </tr>\n",
              "  </tbody>\n",
              "</table>\n",
              "</div>\n",
              "      <button class=\"colab-df-convert\" onclick=\"convertToInteractive('df-0acae68d-385c-49c6-af9b-9b9a17291abd')\"\n",
              "              title=\"Convert this dataframe to an interactive table.\"\n",
              "              style=\"display:none;\">\n",
              "        \n",
              "  <svg xmlns=\"http://www.w3.org/2000/svg\" height=\"24px\"viewBox=\"0 0 24 24\"\n",
              "       width=\"24px\">\n",
              "    <path d=\"M0 0h24v24H0V0z\" fill=\"none\"/>\n",
              "    <path d=\"M18.56 5.44l.94 2.06.94-2.06 2.06-.94-2.06-.94-.94-2.06-.94 2.06-2.06.94zm-11 1L8.5 8.5l.94-2.06 2.06-.94-2.06-.94L8.5 2.5l-.94 2.06-2.06.94zm10 10l.94 2.06.94-2.06 2.06-.94-2.06-.94-.94-2.06-.94 2.06-2.06.94z\"/><path d=\"M17.41 7.96l-1.37-1.37c-.4-.4-.92-.59-1.43-.59-.52 0-1.04.2-1.43.59L10.3 9.45l-7.72 7.72c-.78.78-.78 2.05 0 2.83L4 21.41c.39.39.9.59 1.41.59.51 0 1.02-.2 1.41-.59l7.78-7.78 2.81-2.81c.8-.78.8-2.07 0-2.86zM5.41 20L4 18.59l7.72-7.72 1.47 1.35L5.41 20z\"/>\n",
              "  </svg>\n",
              "      </button>\n",
              "      \n",
              "  <style>\n",
              "    .colab-df-container {\n",
              "      display:flex;\n",
              "      flex-wrap:wrap;\n",
              "      gap: 12px;\n",
              "    }\n",
              "\n",
              "    .colab-df-convert {\n",
              "      background-color: #E8F0FE;\n",
              "      border: none;\n",
              "      border-radius: 50%;\n",
              "      cursor: pointer;\n",
              "      display: none;\n",
              "      fill: #1967D2;\n",
              "      height: 32px;\n",
              "      padding: 0 0 0 0;\n",
              "      width: 32px;\n",
              "    }\n",
              "\n",
              "    .colab-df-convert:hover {\n",
              "      background-color: #E2EBFA;\n",
              "      box-shadow: 0px 1px 2px rgba(60, 64, 67, 0.3), 0px 1px 3px 1px rgba(60, 64, 67, 0.15);\n",
              "      fill: #174EA6;\n",
              "    }\n",
              "\n",
              "    [theme=dark] .colab-df-convert {\n",
              "      background-color: #3B4455;\n",
              "      fill: #D2E3FC;\n",
              "    }\n",
              "\n",
              "    [theme=dark] .colab-df-convert:hover {\n",
              "      background-color: #434B5C;\n",
              "      box-shadow: 0px 1px 3px 1px rgba(0, 0, 0, 0.15);\n",
              "      filter: drop-shadow(0px 1px 2px rgba(0, 0, 0, 0.3));\n",
              "      fill: #FFFFFF;\n",
              "    }\n",
              "  </style>\n",
              "\n",
              "      <script>\n",
              "        const buttonEl =\n",
              "          document.querySelector('#df-0acae68d-385c-49c6-af9b-9b9a17291abd button.colab-df-convert');\n",
              "        buttonEl.style.display =\n",
              "          google.colab.kernel.accessAllowed ? 'block' : 'none';\n",
              "\n",
              "        async function convertToInteractive(key) {\n",
              "          const element = document.querySelector('#df-0acae68d-385c-49c6-af9b-9b9a17291abd');\n",
              "          const dataTable =\n",
              "            await google.colab.kernel.invokeFunction('convertToInteractive',\n",
              "                                                     [key], {});\n",
              "          if (!dataTable) return;\n",
              "\n",
              "          const docLinkHtml = 'Like what you see? Visit the ' +\n",
              "            '<a target=\"_blank\" href=https://colab.research.google.com/notebooks/data_table.ipynb>data table notebook</a>'\n",
              "            + ' to learn more about interactive tables.';\n",
              "          element.innerHTML = '';\n",
              "          dataTable['output_type'] = 'display_data';\n",
              "          await google.colab.output.renderOutput(dataTable, element);\n",
              "          const docLink = document.createElement('div');\n",
              "          docLink.innerHTML = docLinkHtml;\n",
              "          element.appendChild(docLink);\n",
              "        }\n",
              "      </script>\n",
              "    </div>\n",
              "  </div>\n",
              "  "
            ]
          },
          "metadata": {},
          "execution_count": 32
        }
      ]
    },
    {
      "cell_type": "code",
      "source": [
        "# model7 gave most accuarate result. it has been observed that no. of neurons per layer should of power 2 and increasing no. of layers kept lower number of parameters with greater accuracy"
      ],
      "metadata": {
        "id": "6t0GeDIGHPGC"
      },
      "id": "6t0GeDIGHPGC",
      "execution_count": 33,
      "outputs": []
    },
    {
      "cell_type": "code",
      "source": [],
      "metadata": {
        "id": "HREtNWSZH3y_"
      },
      "id": "HREtNWSZH3y_",
      "execution_count": null,
      "outputs": []
    }
  ],
  "metadata": {
    "kernelspec": {
      "display_name": "Python 3",
      "name": "python3"
    },
    "language_info": {
      "codemirror_mode": {
        "name": "ipython",
        "version": 3
      },
      "file_extension": ".py",
      "mimetype": "text/x-python",
      "name": "python",
      "nbconvert_exporter": "python",
      "pygments_lexer": "ipython3",
      "version": "3.9.13"
    },
    "colab": {
      "provenance": [],
      "gpuType": "T4"
    }
  },
  "nbformat": 4,
  "nbformat_minor": 5
}