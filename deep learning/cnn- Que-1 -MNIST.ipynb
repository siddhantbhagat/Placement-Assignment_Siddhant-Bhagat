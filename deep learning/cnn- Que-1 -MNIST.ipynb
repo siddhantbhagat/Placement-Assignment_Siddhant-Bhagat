{
 "cells": [
  {
   "cell_type": "code",
   "execution_count": 1,
   "id": "590ed4b7",
   "metadata": {},
   "outputs": [],
   "source": [
    "import pandas as pd\n",
    "import tensorflow as tf\n",
    "from tensorflow.keras.datasets import mnist\n",
    "from tensorflow.keras.models import Sequential\n",
    "from tensorflow.keras.layers import Conv2D,MaxPooling2D,Flatten,Dense\n",
    "from tensorflow.keras.utils import to_categorical\n",
    "from sklearn.metrics import accuracy_score"
   ]
  },
  {
   "cell_type": "code",
   "execution_count": 2,
   "id": "0672e466",
   "metadata": {},
   "outputs": [],
   "source": [
    "# loading MNIST dataset\n",
    "(x_train, y_train), (x_test, y_test) = mnist.load_data()"
   ]
  },
  {
   "cell_type": "code",
   "execution_count": 3,
   "id": "407276ab",
   "metadata": {},
   "outputs": [],
   "source": [
    "import numpy as np\n",
    "import matplotlib.pyplot as plt\n",
    "import matplotlib.cm as cm"
   ]
  },
  {
   "cell_type": "code",
   "execution_count": 4,
   "id": "fbd4aff4",
   "metadata": {},
   "outputs": [
    {
     "data": {
      "text/plain": [
       "<matplotlib.image.AxesImage at 0x20989406220>"
      ]
     },
     "execution_count": 4,
     "metadata": {},
     "output_type": "execute_result"
    },
    {
     "data": {
      "image/png": "[encoded data removed]",
      "text/plain": [
       "<Figure size 640x480 with 1 Axes>"
      ]
     },
     "metadata": {},
     "output_type": "display_data"
    }
   ],
   "source": [
    "plt.imshow(x_train[0])"
   ]
  },
  {
   "cell_type": "code",
   "execution_count": 5,
   "id": "4adae068",
   "metadata": {},
   "outputs": [
    {
     "data": {
      "text/plain": [
       "(28, 28)"
      ]
     },
     "execution_count": 5,
     "metadata": {},
     "output_type": "execute_result"
    }
   ],
   "source": [
    "x_train[0].shape"
   ]
  },
  {
   "cell_type": "code",
   "execution_count": 6,
   "id": "5fb93df9",
   "metadata": {},
   "outputs": [
    {
     "data": {
      "text/plain": [
       "(60000, 28, 28)"
      ]
     },
     "execution_count": 6,
     "metadata": {},
     "output_type": "execute_result"
    }
   ],
   "source": [
    "x_train.shape"
   ]
  },
  {
   "cell_type": "code",
   "execution_count": 7,
   "id": "a3b72745",
   "metadata": {},
   "outputs": [
    {
     "data": {
      "text/plain": [
       "(10000, 28, 28)"
      ]
     },
     "execution_count": 7,
     "metadata": {},
     "output_type": "execute_result"
    }
   ],
   "source": [
    "x_test.shape"
   ]
  },
  {
   "cell_type": "code",
   "execution_count": 9,
   "id": "df029758",
   "metadata": {},
   "outputs": [
    {
     "data": {
      "text/plain": [
       "<matplotlib.image.AxesImage at 0x2098792d280>"
      ]
     },
     "execution_count": 9,
     "metadata": {},
     "output_type": "execute_result"
    },
    {
     "data": {
      "image/png": "[encoded data removed]",
      "text/plain": [
       "<Figure size 640x480 with 1 Axes>"
      ]
     },
     "metadata": {},
     "output_type": "display_data"
    }
   ],
   "source": [
    "# we will rescale the data to have values between 0 and 1 by dividing with 255.0\n",
    "x_train=x_train/255.0\n",
    "x_test=x_test/255.0\n",
    "plt.imshow(x_train[0])"
   ]
  },
  {
   "cell_type": "code",
   "execution_count": 11,
   "id": "af54682d",
   "metadata": {},
   "outputs": [],
   "source": [
    "# now lets create sparse matrix from y_train and y_test\n",
    "num_classes = 10\n",
    "y_train = to_categorical(y_train, num_classes)\n",
    "y_test = to_categorical(y_test, num_classes)"
   ]
  },
  {
   "cell_type": "code",
   "execution_count": 12,
   "id": "eb3b106f",
   "metadata": {},
   "outputs": [
    {
     "data": {
      "text/plain": [
       "array([[0., 0., 0., 0., 0., 1., 0., 0., 0., 0.],\n",
       "       [1., 0., 0., 0., 0., 0., 0., 0., 0., 0.],\n",
       "       [0., 0., 0., 0., 1., 0., 0., 0., 0., 0.],\n",
       "       [0., 1., 0., 0., 0., 0., 0., 0., 0., 0.],\n",
       "       [0., 0., 0., 0., 0., 0., 0., 0., 0., 1.]], dtype=float32)"
      ]
     },
     "execution_count": 12,
     "metadata": {},
     "output_type": "execute_result"
    }
   ],
   "source": [
    "y_train[:5]"
   ]
  },
  {
   "cell_type": "markdown",
   "id": "85a5d56a",
   "metadata": {},
   "source": [
    "## lets reshape the data"
   ]
  },
  {
   "cell_type": "code",
   "execution_count": 13,
   "id": "52bde6f9",
   "metadata": {},
   "outputs": [
    {
     "name": "stdout",
     "output_type": "stream",
     "text": [
      "input_shape:  (28, 28, 1)\n",
      "x_train shape: (60000, 28, 28, 1)\n"
     ]
    }
   ],
   "source": [
    "# input image dimensions 28x28 pixel images. \n",
    "img_rows, img_cols = 28, 28\n",
    "\n",
    "x_train = x_train.reshape(x_train.shape[0], img_rows, img_cols, 1)\n",
    "x_test = x_test.reshape(x_test.shape[0], img_rows, img_cols, 1)\n",
    "input_shape = (img_rows, img_cols, 1)\n",
    "\n",
    "print('input_shape: ', input_shape)\n",
    "print('x_train shape:', x_train.shape)"
   ]
  },
  {
   "cell_type": "code",
   "execution_count": 14,
   "id": "93bd0f77",
   "metadata": {},
   "outputs": [],
   "source": [
    "# we can also use following method to add channel dimention for gray scale images\n",
    "# x = x_train[..., tf.newaxis]"
   ]
  },
  {
   "cell_type": "markdown",
   "id": "e9e86738",
   "metadata": {},
   "source": [
    "## models"
   ]
  },
  {
   "cell_type": "code",
   "execution_count": 84,
   "id": "75b22ca1",
   "metadata": {},
   "outputs": [],
   "source": [
    "# first CNN architecture\n",
    "# simple architecture with 1 conv layer (32 kernels) 1 max pooling layer and 2 fully connected layers\n",
    "def cnn_model_1():\n",
    "    model = Sequential()\n",
    "    model.add(Conv2D(8, (3, 3), activation='relu', input_shape=(28, 28, 1)))\n",
    "    model.add(MaxPooling2D((2, 2)))\n",
    "    model.add(Conv2D(16, (3, 3), activation='relu', input_shape=(28, 28, 1)))\n",
    "    model.add(MaxPooling2D((2, 2)))\n",
    "    model.add(Flatten())\n",
    "    model.add(Dense(16, activation='relu'))\n",
    "    model.add(Dense(10, activation='softmax'))\n",
    "    return model\n",
    "\n",
    "# Define the second CNN architecture\n",
    "# simple architecture with 2 conv layer (16 kernels and 32 kernels)  2 max pooling layer and 2 fully connected layers\n",
    "def cnn_model_2():\n",
    "    model = Sequential()\n",
    "    model.add(Conv2D(32, (3, 3), activation='relu', input_shape=(28, 28, 1)))\n",
    "    model.add(MaxPooling2D((2, 2)))\n",
    "    model.add(Conv2D(14, (3, 3), activation='relu'))\n",
    "    model.add(MaxPooling2D((2, 2)))\n",
    "    model.add(Flatten())\n",
    "    model.add(Dense(10, activation='relu'))\n",
    "    model.add(Dense(10, activation='softmax'))\n",
    "    return model\n",
    "\n",
    "# Define the third CNN architecture\n",
    "# 3 alternate conv and max pooling layes with kernels 8, 16, 32 respectively followed by 2 FC layers\n",
    "def cnn_model_3():\n",
    "    model = Sequential()\n",
    "    model.add(Conv2D(32, (3, 3), padding='same',activation='relu', input_shape=(28, 28, 1)))\n",
    "    model.add(MaxPooling2D((2, 2)))\n",
    "    model.add(Conv2D(16, (3, 3), padding='same', activation='relu'))\n",
    "    model.add(MaxPooling2D((2, 2)))\n",
    "    model.add(Conv2D(8, (3, 3), padding='same', activation='relu'))\n",
    "    model.add(MaxPooling2D((2, 2)))\n",
    "    model.add(Flatten())\n",
    "    model.add(Dense(16, activation='relu'))\n",
    "    model.add(Dense(10, activation='softmax'))\n",
    "    return model\n",
    " "
   ]
  },
  {
   "cell_type": "code",
   "execution_count": 85,
   "id": "356947df",
   "metadata": {},
   "outputs": [
    {
     "name": "stdout",
     "output_type": "stream",
     "text": [
      "7834\n",
      "7986\n",
      "7442\n"
     ]
    }
   ],
   "source": [
    "print(cnn_model_1().count_params())\n",
    "print(cnn_model_2().count_params())\n",
    "print(cnn_model_3().count_params())"
   ]
  },
  {
   "cell_type": "markdown",
   "id": "15bc08c7",
   "metadata": {},
   "source": [
    "#### number of trainable paramter are minimum for model-2"
   ]
  },
  {
   "cell_type": "code",
   "execution_count": 92,
   "id": "65bbc5ed",
   "metadata": {},
   "outputs": [
    {
     "name": "stdout",
     "output_type": "stream",
     "text": [
      "Model: \"sequential_73\"\n",
      "_________________________________________________________________\n",
      " Layer (type)                Output Shape              Param #   \n",
      "=================================================================\n",
      " conv2d_156 (Conv2D)         (None, 26, 26, 8)         80        \n",
      "                                                                 \n",
      " max_pooling2d_148 (MaxPooli  (None, 13, 13, 8)        0         \n",
      " ng2D)                                                           \n",
      "                                                                 \n",
      " conv2d_157 (Conv2D)         (None, 11, 11, 16)        1168      \n",
      "                                                                 \n",
      " max_pooling2d_149 (MaxPooli  (None, 5, 5, 16)         0         \n",
      " ng2D)                                                           \n",
      "                                                                 \n",
      " flatten_73 (Flatten)        (None, 400)               0         \n",
      "                                                                 \n",
      " dense_146 (Dense)           (None, 16)                6416      \n",
      "                                                                 \n",
      " dense_147 (Dense)           (None, 10)                170       \n",
      "                                                                 \n",
      "=================================================================\n",
      "Total params: 7,834\n",
      "Trainable params: 7,834\n",
      "Non-trainable params: 0\n",
      "_________________________________________________________________\n"
     ]
    }
   ],
   "source": [
    "cnn_model_1().summary()"
   ]
  },
  {
   "cell_type": "code",
   "execution_count": 18,
   "id": "048230a9",
   "metadata": {},
   "outputs": [],
   "source": [
    "from tensorflow.keras.callbacks import EarlyStopping"
   ]
  },
  {
   "cell_type": "markdown",
   "id": "7d23bff7",
   "metadata": {},
   "source": [
    "## compile model"
   ]
  },
  {
   "cell_type": "code",
   "execution_count": 87,
   "id": "4e7cdbf3",
   "metadata": {},
   "outputs": [],
   "source": [
    "# Compile and train the model\n",
    "def train_model(model):\n",
    "    model.compile(optimizer='adam',\n",
    "                  loss='categorical_crossentropy',\n",
    "                  metrics=['accuracy'])\n",
    "    \n",
    "    # Apply early stopping to prevent overfitting\n",
    "    early_stop = EarlyStopping(monitor='val_loss', patience=3, restore_best_weights=True)\n",
    "    \n",
    "    history = model.fit(x_train, y_train, batch_size=64, epochs=20, validation_data=(x_test, y_test), callbacks=[early_stop])\n",
    "    \n",
    "    # Evaluate the model on the test set\n",
    "    _, accuracy = model.evaluate(x_test, y_test)\n",
    "    params_count = model.count_params()\n",
    "    \n",
    "    return accuracy, params_count, history"
   ]
  },
  {
   "cell_type": "code",
   "execution_count": 88,
   "id": "9bc28e3b",
   "metadata": {
    "scrolled": false
   },
   "outputs": [
    {
     "name": "stdout",
     "output_type": "stream",
     "text": [
      "Epoch 1/20\n",
      "938/938 [==============================] - 21s 21ms/step - loss: 0.3535 - accuracy: 0.8933 - val_loss: 0.1099 - val_accuracy: 0.9674\n",
      "Epoch 2/20\n",
      "938/938 [==============================] - 19s 20ms/step - loss: 0.1065 - accuracy: 0.9682 - val_loss: 0.0860 - val_accuracy: 0.9730\n",
      "Epoch 3/20\n",
      "938/938 [==============================] - 21s 22ms/step - loss: 0.0813 - accuracy: 0.9752 - val_loss: 0.0702 - val_accuracy: 0.9765\n",
      "Epoch 4/20\n",
      "938/938 [==============================] - 22s 23ms/step - loss: 0.0685 - accuracy: 0.9794 - val_loss: 0.0550 - val_accuracy: 0.9824\n",
      "Epoch 5/20\n",
      "938/938 [==============================] - 23s 24ms/step - loss: 0.0594 - accuracy: 0.9823 - val_loss: 0.0546 - val_accuracy: 0.9843\n",
      "Epoch 6/20\n",
      "938/938 [==============================] - 22s 23ms/step - loss: 0.0526 - accuracy: 0.9835 - val_loss: 0.0544 - val_accuracy: 0.9827\n",
      "Epoch 7/20\n",
      "938/938 [==============================] - 22s 24ms/step - loss: 0.0475 - accuracy: 0.9853 - val_loss: 0.0462 - val_accuracy: 0.9854\n",
      "Epoch 8/20\n",
      "938/938 [==============================] - 22s 23ms/step - loss: 0.0441 - accuracy: 0.9857 - val_loss: 0.0463 - val_accuracy: 0.9850\n",
      "Epoch 9/20\n",
      "938/938 [==============================] - 22s 24ms/step - loss: 0.0406 - accuracy: 0.9874 - val_loss: 0.0441 - val_accuracy: 0.9855\n",
      "Epoch 10/20\n",
      "938/938 [==============================] - 24s 26ms/step - loss: 0.0366 - accuracy: 0.9886 - val_loss: 0.0391 - val_accuracy: 0.9875\n",
      "Epoch 11/20\n",
      "938/938 [==============================] - 23s 24ms/step - loss: 0.0354 - accuracy: 0.9885 - val_loss: 0.0470 - val_accuracy: 0.9843\n",
      "Epoch 12/20\n",
      "938/938 [==============================] - 3477s 4s/step - loss: 0.0318 - accuracy: 0.9901 - val_loss: 0.0421 - val_accuracy: 0.9857\n",
      "Epoch 13/20\n",
      "938/938 [==============================] - 19s 20ms/step - loss: 0.0298 - accuracy: 0.9905 - val_loss: 0.0372 - val_accuracy: 0.9883\n",
      "Epoch 14/20\n",
      "938/938 [==============================] - 19s 20ms/step - loss: 0.0277 - accuracy: 0.9912 - val_loss: 0.0415 - val_accuracy: 0.9873\n",
      "Epoch 15/20\n",
      "938/938 [==============================] - 19s 21ms/step - loss: 0.0256 - accuracy: 0.9914 - val_loss: 0.0393 - val_accuracy: 0.9875\n",
      "Epoch 16/20\n",
      "938/938 [==============================] - 24s 25ms/step - loss: 0.0240 - accuracy: 0.9923 - val_loss: 0.0415 - val_accuracy: 0.9872\n",
      "313/313 [==============================] - 2s 5ms/step - loss: 0.0372 - accuracy: 0.9883\n",
      "Epoch 1/20\n",
      "938/938 [==============================] - 42s 44ms/step - loss: 0.4368 - accuracy: 0.8610 - val_loss: 0.1605 - val_accuracy: 0.9552\n",
      "Epoch 2/20\n",
      "938/938 [==============================] - 41s 44ms/step - loss: 0.1335 - accuracy: 0.9607 - val_loss: 0.1009 - val_accuracy: 0.9691\n",
      "Epoch 3/20\n",
      "938/938 [==============================] - 43s 46ms/step - loss: 0.0910 - accuracy: 0.9731 - val_loss: 0.0751 - val_accuracy: 0.9765\n",
      "Epoch 4/20\n",
      "938/938 [==============================] - 39s 41ms/step - loss: 0.0723 - accuracy: 0.9780 - val_loss: 0.0673 - val_accuracy: 0.9792\n",
      "Epoch 5/20\n",
      "938/938 [==============================] - 39s 41ms/step - loss: 0.0615 - accuracy: 0.9812 - val_loss: 0.0565 - val_accuracy: 0.9818\n",
      "Epoch 6/20\n",
      "938/938 [==============================] - 40s 43ms/step - loss: 0.0534 - accuracy: 0.9836 - val_loss: 0.0581 - val_accuracy: 0.9815\n",
      "Epoch 7/20\n",
      "938/938 [==============================] - 40s 42ms/step - loss: 0.0481 - accuracy: 0.9852 - val_loss: 0.0508 - val_accuracy: 0.9842\n",
      "Epoch 8/20\n",
      "938/938 [==============================] - 38s 41ms/step - loss: 0.0437 - accuracy: 0.9865 - val_loss: 0.0482 - val_accuracy: 0.9847\n",
      "Epoch 9/20\n",
      "938/938 [==============================] - 41s 44ms/step - loss: 0.0407 - accuracy: 0.9872 - val_loss: 0.0479 - val_accuracy: 0.9851\n",
      "Epoch 10/20\n",
      "938/938 [==============================] - 40s 42ms/step - loss: 0.0376 - accuracy: 0.9878 - val_loss: 0.0483 - val_accuracy: 0.9842\n",
      "Epoch 11/20\n",
      "938/938 [==============================] - 38s 41ms/step - loss: 0.0348 - accuracy: 0.9888 - val_loss: 0.0465 - val_accuracy: 0.9861\n",
      "Epoch 12/20\n",
      "938/938 [==============================] - 40s 43ms/step - loss: 0.0324 - accuracy: 0.9899 - val_loss: 0.0516 - val_accuracy: 0.9840\n",
      "Epoch 13/20\n",
      "938/938 [==============================] - 40s 43ms/step - loss: 0.0301 - accuracy: 0.9904 - val_loss: 0.0443 - val_accuracy: 0.9862\n",
      "Epoch 14/20\n",
      "938/938 [==============================] - 40s 42ms/step - loss: 0.0280 - accuracy: 0.9910 - val_loss: 0.0470 - val_accuracy: 0.9870\n",
      "Epoch 15/20\n",
      "938/938 [==============================] - 40s 43ms/step - loss: 0.0265 - accuracy: 0.9915 - val_loss: 0.0431 - val_accuracy: 0.9870\n",
      "Epoch 16/20\n",
      "938/938 [==============================] - 41s 43ms/step - loss: 0.0253 - accuracy: 0.9914 - val_loss: 0.0449 - val_accuracy: 0.9863\n",
      "Epoch 17/20\n",
      "938/938 [==============================] - 40s 43ms/step - loss: 0.0234 - accuracy: 0.9923 - val_loss: 0.0419 - val_accuracy: 0.9875\n",
      "Epoch 18/20\n",
      "938/938 [==============================] - 40s 42ms/step - loss: 0.0215 - accuracy: 0.9933 - val_loss: 0.0489 - val_accuracy: 0.9874\n",
      "Epoch 19/20\n",
      "938/938 [==============================] - 40s 43ms/step - loss: 0.0216 - accuracy: 0.9929 - val_loss: 0.0489 - val_accuracy: 0.9859\n",
      "Epoch 20/20\n",
      "938/938 [==============================] - 40s 43ms/step - loss: 0.0188 - accuracy: 0.9940 - val_loss: 0.0429 - val_accuracy: 0.9883\n",
      "313/313 [==============================] - 3s 9ms/step - loss: 0.0419 - accuracy: 0.9875\n",
      "Epoch 1/20\n",
      "938/938 [==============================] - 56s 56ms/step - loss: 0.4045 - accuracy: 0.8709 - val_loss: 0.1085 - val_accuracy: 0.9653\n",
      "Epoch 2/20\n",
      "938/938 [==============================] - 54s 58ms/step - loss: 0.1133 - accuracy: 0.9649 - val_loss: 0.0805 - val_accuracy: 0.9745\n",
      "Epoch 3/20\n",
      "938/938 [==============================] - 56s 60ms/step - loss: 0.0851 - accuracy: 0.9739 - val_loss: 0.0635 - val_accuracy: 0.9803\n",
      "Epoch 4/20\n",
      "938/938 [==============================] - 54s 57ms/step - loss: 0.0715 - accuracy: 0.9777 - val_loss: 0.0543 - val_accuracy: 0.9829\n",
      "Epoch 5/20\n",
      "938/938 [==============================] - 47s 50ms/step - loss: 0.0636 - accuracy: 0.9800 - val_loss: 0.0456 - val_accuracy: 0.9850\n",
      "Epoch 6/20\n",
      "938/938 [==============================] - 49s 52ms/step - loss: 0.0564 - accuracy: 0.9822 - val_loss: 0.0549 - val_accuracy: 0.9824\n",
      "Epoch 7/20\n",
      "938/938 [==============================] - 50s 54ms/step - loss: 0.0515 - accuracy: 0.9834 - val_loss: 0.0526 - val_accuracy: 0.9839\n",
      "Epoch 8/20\n",
      "938/938 [==============================] - 50s 53ms/step - loss: 0.0477 - accuracy: 0.9851 - val_loss: 0.0421 - val_accuracy: 0.9873\n",
      "Epoch 9/20\n",
      "938/938 [==============================] - 48s 51ms/step - loss: 0.0441 - accuracy: 0.9858 - val_loss: 0.0387 - val_accuracy: 0.9884\n",
      "Epoch 10/20\n",
      "938/938 [==============================] - 100s 107ms/step - loss: 0.0405 - accuracy: 0.9873 - val_loss: 0.0476 - val_accuracy: 0.9850\n",
      "Epoch 11/20\n",
      "938/938 [==============================] - 53s 57ms/step - loss: 0.0382 - accuracy: 0.9875 - val_loss: 0.0406 - val_accuracy: 0.9872\n",
      "Epoch 12/20\n",
      "938/938 [==============================] - 52s 55ms/step - loss: 0.0371 - accuracy: 0.9884 - val_loss: 0.0369 - val_accuracy: 0.9882\n",
      "Epoch 13/20\n",
      "938/938 [==============================] - 50s 53ms/step - loss: 0.0340 - accuracy: 0.9895 - val_loss: 0.0398 - val_accuracy: 0.9880\n",
      "Epoch 14/20\n",
      "938/938 [==============================] - 51s 54ms/step - loss: 0.0318 - accuracy: 0.9901 - val_loss: 0.0388 - val_accuracy: 0.9888\n",
      "Epoch 15/20\n",
      "938/938 [==============================] - 52s 56ms/step - loss: 0.0303 - accuracy: 0.9906 - val_loss: 0.0359 - val_accuracy: 0.9893\n",
      "Epoch 16/20\n",
      "938/938 [==============================] - 54s 57ms/step - loss: 0.0291 - accuracy: 0.9906 - val_loss: 0.0337 - val_accuracy: 0.9896\n",
      "Epoch 17/20\n",
      "938/938 [==============================] - 52s 55ms/step - loss: 0.0268 - accuracy: 0.9913 - val_loss: 0.0421 - val_accuracy: 0.9874\n",
      "Epoch 18/20\n",
      "938/938 [==============================] - 51s 54ms/step - loss: 0.0260 - accuracy: 0.9914 - val_loss: 0.0359 - val_accuracy: 0.9895\n",
      "Epoch 19/20\n",
      "938/938 [==============================] - 51s 55ms/step - loss: 0.0249 - accuracy: 0.9917 - val_loss: 0.0361 - val_accuracy: 0.9886\n",
      "313/313 [==============================] - 3s 11ms/step - loss: 0.0337 - accuracy: 0.9896\n"
     ]
    }
   ],
   "source": [
    "# Train and evaluate model 1\n",
    "model_1 = cnn_model_1()\n",
    "accuracy_1, params_count_1, history_1 = train_model(model_1)\n",
    "\n",
    "# Train and evaluate model 2\n",
    "model_2 = cnn_model_2()\n",
    "accuracy_2, params_count_2, history_2 = train_model(model_2)\n",
    "\n",
    "# Train and evaluate model 3\n",
    "model_3 = cnn_model_3()\n",
    "accuracy_3, params_count,history_3 = train_model(model_3)"
   ]
  },
  {
   "cell_type": "code",
   "execution_count": 89,
   "id": "8fdbc194",
   "metadata": {},
   "outputs": [
    {
     "name": "stdout",
     "output_type": "stream",
     "text": [
      "0.9883000254631042\n",
      "0.987500011920929\n",
      "0.9896000027656555\n"
     ]
    }
   ],
   "source": [
    "print(accuracy_1)\n",
    "print(accuracy_2)\n",
    "print(accuracy_3)"
   ]
  },
  {
   "cell_type": "markdown",
   "id": "50758372",
   "metadata": {},
   "source": [
    "#### model 2 gives good accuracy with less number of trainable parameters"
   ]
  },
  {
   "cell_type": "code",
   "execution_count": 90,
   "id": "d807e29d",
   "metadata": {},
   "outputs": [
    {
     "data": {
      "text/plain": [
       "[]"
      ]
     },
     "execution_count": 90,
     "metadata": {},
     "output_type": "execute_result"
    },
    {
     "data": {
      "image/png": "[encoded data removed]",
      "text/plain": [
       "<Figure size 640x480 with 1 Axes>"
      ]
     },
     "metadata": {},
     "output_type": "display_data"
    }
   ],
   "source": [
    "plt.plot(history_1.history['accuracy'])\n",
    "plt.plot(history_2.history['accuracy'])\n",
    "plt.plot(history_3.history['accuracy'])\n",
    "plt.legend(['history_1','history_2','history_3'],loc='lower right')\n",
    "plt.plot()"
   ]
  },
  {
   "cell_type": "code",
   "execution_count": 91,
   "id": "547ad88f",
   "metadata": {
    "scrolled": false
   },
   "outputs": [
    {
     "data": {
      "text/plain": [
       "[]"
      ]
     },
     "execution_count": 91,
     "metadata": {},
     "output_type": "execute_result"
    },
    {
     "data": {
      "image/png": "[encoded data removed]",
      "text/plain": [
       "<Figure size 640x480 with 1 Axes>"
      ]
     },
     "metadata": {},
     "output_type": "display_data"
    }
   ],
   "source": [
    "plt.plot(history_1.history['loss'])\n",
    "plt.plot(history_2.history['loss'])\n",
    "plt.plot(history_3.history['loss'])\n",
    "plt.legend(['history_1','history_2','history_3'],loc='upper right')\n",
    "plt.plot()"
   ]
  },
  {
   "cell_type": "code",
   "execution_count": null,
   "id": "474679ee",
   "metadata": {},
   "outputs": [],
   "source": []
  }
 ],
 "metadata": {
  "kernelspec": {
   "display_name": "Python 3 (ipykernel)",
   "language": "python",
   "name": "python3"
  },
  "language_info": {
   "codemirror_mode": {
    "name": "ipython",
    "version": 3
   },
   "file_extension": ".py",
   "mimetype": "text/x-python",
   "name": "python",
   "nbconvert_exporter": "python",
   "pygments_lexer": "ipython3",
   "version": "3.9.13"
  }
 },
 "nbformat": 4,
 "nbformat_minor": 5
}
